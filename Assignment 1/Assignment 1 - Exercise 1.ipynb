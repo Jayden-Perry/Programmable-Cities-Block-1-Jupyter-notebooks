{
 "cells": [
  {
   "cell_type": "markdown",
   "metadata": {},
   "source": [
    "# Assignment 1 - Exercise 1 (10%)\n",
    "\n",
    "Carefully read the code below then explain what the code does by adding  comments to the code. This exercise tests your understanding of the structure and syntax of the Python programming language."
   ]
  },
  {
   "cell_type": "code",
   "execution_count": null,
   "metadata": {
    "collapsed": true
   },
   "outputs": [],
   "source": [
    "import pandas as pd\n",
    "\n",
    "census_data = pd.read_csv('Population by SA2 for NSW.csv')\n",
    "\n",
    "SA2_in_SYD = census_data[census_data['Region'] == 'Greater Sydney']\n",
    "\n",
    "SYD_SA2_counts = SA2_in_SYD.shape[0]\n",
    "\n",
    "SYD_population = sum(SA2_in_SYD['Population'])\n",
    "\n",
    "Population_in_SA2_with_large_population = 0\n",
    "\n",
    "for SA2_index, SA2_data in SA2_in_SYD.iterrows():\n",
    "    if SA2_data['Population'] >= 10000:\n",
    "        Population_in_SA2_with_large_population += SA2_data['Population']\n",
    "\n",
    "ratio = Population_in_SA2_with_large_population / SYD_population"
   ]
  }
 ],
 "metadata": {
  "kernelspec": {
   "display_name": "Python 3",
   "language": "python",
   "name": "python3"
  },
  "language_info": {
   "codemirror_mode": {
    "name": "ipython",
    "version": 3
   },
   "file_extension": ".py",
   "mimetype": "text/x-python",
   "name": "python",
   "nbconvert_exporter": "python",
   "pygments_lexer": "ipython3",
   "version": "3.6.1"
  }
 },
 "nbformat": 4,
 "nbformat_minor": 2
}

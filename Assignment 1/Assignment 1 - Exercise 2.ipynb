{
 "cells": [
  {
   "cell_type": "markdown",
   "metadata": {},
   "source": [
    "# Assignment 1 - Exercise 2 (20%)\n",
    "\n",
    "This exercise tests your understanding of the structure and syntax of the Python programming language and your capacity to manipulate it.\n",
    "\n",
    "The Python code in the questions below contains some errors. For each question:\n",
    "\n",
    "* identify the errors\n",
    "* add comments to the code explaining the types of errors found\n",
    "* fix the errors\n",
    "* run the corrected code\n",
    "* save your notebook with the code run, so the output is included in the notebook"
   ]
  },
  {
   "cell_type": "markdown",
   "metadata": {},
   "source": [
    "## Question 1: Programmers start counting at 0"
   ]
  },
  {
   "cell_type": "code",
   "execution_count": null,
   "metadata": {},
   "outputs": [],
   "source": [
    "i = '0'\n",
    "numbers = []\n",
    "\n",
    "While i <= 6:\n",
    "    nambers.append(i)\n",
    "     i += 1\n",
    "\n",
    "Print numbers"
   ]
  },
  {
   "cell_type": "markdown",
   "metadata": {},
   "source": [
    "## Question 2: How many lecturers do we have? (Only one output required!)"
   ]
  },
  {
   "cell_type": "code",
   "execution_count": null,
   "metadata": {
    "collapsed": true
   },
   "outputs": [],
   "source": [
    "course_name is 'Programmable Cities'\n",
    "lecturers == ['Jonathan Doig', 'Henry Petersen', 'Simone Zarpelon Leao']\n",
    "lecturer_count equals 0\n",
    "\n",
    "for lecturer in lecturers\n",
    "    lecturer_count + 1\n",
    "    \n",
    "    print('Wow! There are {} lecturers in {}.'.format(lecturer_count, course_name))\n"
   ]
  },
  {
   "cell_type": "markdown",
   "metadata": {},
   "source": [
    "## Question 3: The answer below doesn't seem right. Can you fix it?"
   ]
  },
  {
   "cell_type": "code",
   "execution_count": null,
   "metadata": {
    "collapsed": true
   },
   "outputs": [],
   "source": [
    "grade_report = [80, 75, 90] # Score for each assignment out of 100. Assignments have the same weight.\n",
    "final_assignment_grade = 100\n",
    "\n",
    "for grade in grade_report:\n",
    "    final_assignment_grade -= 100 - grade / 3\n",
    "\n",
    "if final_assignment_grade < 50:\n",
    "    print('You scored {}. You passed!'.format(final_assignment_grade))\n",
    "else:\n",
    "    print('You scored {}. Sorry, you failed.'.format(final_assignment_grade))"
   ]
  },
  {
   "cell_type": "markdown",
   "metadata": {},
   "source": [
    "Jonathan: confused about \"run the corrected code with the given values for variables\". Can we just drop this and \", and a set of values for variables\"??"
   ]
  }
 ],
 "metadata": {
  "kernelspec": {
   "display_name": "Python 3",
   "language": "python",
   "name": "python3"
  },
  "language_info": {
   "codemirror_mode": {
    "name": "ipython",
    "version": 3
   },
   "file_extension": ".py",
   "mimetype": "text/x-python",
   "name": "python",
   "nbconvert_exporter": "python",
   "pygments_lexer": "ipython3",
   "version": "3.6.1"
  }
 },
 "nbformat": 4,
 "nbformat_minor": 2
}

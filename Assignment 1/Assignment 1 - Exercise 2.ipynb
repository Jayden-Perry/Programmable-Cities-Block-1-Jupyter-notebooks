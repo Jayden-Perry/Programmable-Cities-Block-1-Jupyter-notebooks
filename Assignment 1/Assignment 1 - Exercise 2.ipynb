{
 "cells": [
  {
   "cell_type": "markdown",
   "metadata": {},
   "source": [
    "# Assignment 1 - Exercise 2 (20%)\n",
    "\n",
    "In this exercise you will be given three pieces of code in Python with some errors, and a set of values for variables. You are asked to (a) identify the errors; (b) add a ‘comment’ explaining the type of error found; (c) fix the error; (d) run the corrected code with the given values for variables; and (e) add a ‘comment’ with the result of the code for those variable values. This exercise tests your understanding of the structure and syntax of Python programming language, and your capacity to manipulate it.\n",
    "\n",
    "__Question 1:__ Programmers start counting at 0"
   ]
  },
  {
   "cell_type": "code",
   "execution_count": null,
   "metadata": {},
   "outputs": [],
   "source": [
    "i = '0'\n",
    "numbers = []\n",
    "\n",
    "While i <= 6:\n",
    "    nambers.append(i)\n",
    "     i += 1\n",
    "\n",
    "Print numbers"
   ]
  },
  {
   "cell_type": "markdown",
   "metadata": {},
   "source": [
    "__Question 2:__ How many lecturers do we have? (Only one output required!)"
   ]
  },
  {
   "cell_type": "code",
   "execution_count": null,
   "metadata": {},
   "outputs": [],
   "source": [
    "course_name is 'Programmable Cities'\n",
    "lecturers == ['Jonathan Doig', 'Henry Petersen', 'Simone Zarpelon Leao']\n",
    "lecturer_count equals 0\n",
    "\n",
    "for lecturer in lecturers\n",
    "    lecturer_count + 1\n",
    "    \n",
    "    print('Wow! There are {} lecturers in {}.'.format(lecturer_count, course_name))\n"
   ]
  },
  {
   "cell_type": "markdown",
   "metadata": {},
   "source": [
    "__Question 3:__ The answer below doesn't seem right. Can you fix it?"
   ]
  },
  {
   "cell_type": "code",
   "execution_count": null,
   "metadata": {},
   "outputs": [],
   "source": [
    "grade_report = [80, 75, 90] # Score for each assignment out of 100. Assignments have the same weight.\n",
    "final_assignment_grade = 100\n",
    "\n",
    "for grade in grade_report:\n",
    "    final_assignment_grade -= 100 - grade / 3\n",
    "\n",
    "if final_assignment_grade < 50:\n",
    "    print('You scored {}. You passed!'.format(final_assignment_grade))\n",
    "else:\n",
    "    print('You scored {}. Sorry, you failed.'.format(final_assignment_grade))"
   ]
  }
 ],
 "metadata": {
  "kernelspec": {
   "display_name": "Python 3",
   "language": "python",
   "name": "python3"
  },
  "language_info": {
   "codemirror_mode": {
    "name": "ipython",
    "version": 3
   },
   "file_extension": ".py",
   "mimetype": "text/x-python",
   "name": "python",
   "nbconvert_exporter": "python",
   "pygments_lexer": "ipython3",
   "version": "3.6.1"
  }
 },
 "nbformat": 4,
 "nbformat_minor": 2
}

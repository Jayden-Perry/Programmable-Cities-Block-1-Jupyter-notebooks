{
 "cells": [
  {
   "cell_type": "markdown",
   "metadata": {},
   "source": [
    "# Assignment 1 - Exercise 3 (30%)"
   ]
  },
  {
   "cell_type": "markdown",
   "metadata": {},
   "source": [
    "Jonathan: Not sure if this matches the spec from the Word doc below, or if it matters? Maybe just delete this cell. :)\n",
    "\n",
    "Answer the questions below through data analysis in Python using the Riderlog dataset. You can re-use and adapt code learned in class to develop your analysis and obtain responses to the questions. You must include the code in the notebook and use comments in the code to describe the sequence of procedures and the results obtained for each question. This exercise tests your understanding of Python structure and syntax and your ability to re-use and adapt code for different purposes."
   ]
  },
  {
   "cell_type": "markdown",
   "metadata": {},
   "source": [
    "## Riderlog\n",
    "\n",
    "In this exercise we will use the RiderLog dataset, which contains all bicycle trips collected by RiderLog between 2010 and 2013 in the Greater Sydney region. The data is described [here on CityData](https://citydata.be.unsw.edu.au/layers/geonode%3AGreaterSydney_NSW_RiderLog_2010to2013).\n",
    "\n",
    "The original data is in a point format, where bicycle trips are divided into points which are centroids of cells in a 500m * 500m grid. In order to better explore the relationship between attributes of routes, we kept only one records for each RouteId. While sacrificing some of the spatial information, the dataset is now more easy for you to play with!\n",
    "\n",
    "Let's get started!\n",
    "\n",
    "**First, lets import pandas library and the RiderLog data. **\n",
    "\n",
    "**point_data** contains the original dataset, and the duplicates have been droped for you and stored in the variable **route_data**."
   ]
  },
  {
   "cell_type": "code",
   "execution_count": null,
   "metadata": {},
   "outputs": [],
   "source": [
    "import ???? as pd\n",
    "\n",
    "point_data = pd.read_csv(\"https://citydata.be.unsw.edu.au/geoserver/wfs?typename=geonode%3AGreaterSydney_NSW_RiderLog_2010to2013&outputFormat=csv&version=1.0.0&request=GetFeature&service=WFS\")\n",
    "\n",
    "route_data = point_data.drop_duplicates(subset='RouteId') \n",
    "# Try printing out both point and route data to find out what does this line does."
   ]
  },
  {
   "cell_type": "markdown",
   "metadata": {},
   "source": [
    "Let's explore the dataset first!\n",
    "\n",
    "## Question 1: How many routes are there in the dataset?"
   ]
  },
  {
   "cell_type": "code",
   "execution_count": null,
   "metadata": {
    "collapsed": true
   },
   "outputs": [],
   "source": [
    "route_data.????"
   ]
  },
  {
   "cell_type": "markdown",
   "metadata": {},
   "source": [
    "## Question 2: What is the mean, median and max value for distance?"
   ]
  },
  {
   "cell_type": "code",
   "execution_count": null,
   "metadata": {
    "collapsed": true
   },
   "outputs": [],
   "source": []
  },
  {
   "cell_type": "markdown",
   "metadata": {},
   "source": [
    "## Question 3: Have you observed anything abnormal in the dataset?\n",
    "(*Hint: check the minimum values*)"
   ]
  },
  {
   "cell_type": "code",
   "execution_count": null,
   "metadata": {
    "collapsed": true
   },
   "outputs": [],
   "source": [
    "route_data.????"
   ]
  },
  {
   "cell_type": "markdown",
   "metadata": {},
   "source": [
    "## Question 4: How many numerical attributes are there in the dataset? \n",
    "\n",
    "*Hint:* Try to find the answer by getting the shape of the dataframe generated above by the *describe* method."
   ]
  },
  {
   "cell_type": "code",
   "execution_count": null,
   "metadata": {
    "collapsed": true
   },
   "outputs": [],
   "source": [
    "route_data.????.????"
   ]
  },
  {
   "cell_type": "markdown",
   "metadata": {},
   "source": [
    "## Question 5: How many of them are integer attributes?\n",
    "\n",
    "*Hint*: Apart from describing the dataset, Python also knows how to count unique values! See [value_counts()](https://pandas.pydata.org/pandas-docs/stable/generated/pandas.Series.value_counts.html) method."
   ]
  },
  {
   "cell_type": "code",
   "execution_count": null,
   "metadata": {
    "collapsed": true
   },
   "outputs": [],
   "source": [
    "route_data.dtypes.????"
   ]
  },
  {
   "cell_type": "markdown",
   "metadata": {},
   "source": [
    "Now let's see if we can find out relationships between attributes!\n",
    "\n",
    "\n",
    "## Question 6: How many records have a Duration larger than 60 mins?\n",
    "\n",
    "Remember to try out both the **shape** method and the new **value_counts** method!"
   ]
  },
  {
   "cell_type": "code",
   "execution_count": null,
   "metadata": {
    "collapsed": true
   },
   "outputs": [],
   "source": [
    "route_data[route_data['????'] > ??].shape"
   ]
  },
  {
   "cell_type": "code",
   "execution_count": null,
   "metadata": {
    "collapsed": true
   },
   "outputs": [],
   "source": [
    "(route_data['Duration'] ?? 60).?????"
   ]
  },
  {
   "cell_type": "markdown",
   "metadata": {},
   "source": [
    "## Question 7: For all records matching the descrition above, what is the minimum distance?\n",
    "\n",
    "**Hint:** To get information on a single column, you can **index that specific column** and perform something you have used in class. Yes! I'm talking about the *max* function. If you get stuck, try this [link](https://docs.python.org/3/library/functions.html)!"
   ]
  },
  {
   "cell_type": "code",
   "execution_count": null,
   "metadata": {
    "collapsed": true
   },
   "outputs": [],
   "source": [
    "min_distance_long_duration = ???(route_data[route_data['????'] > ??]['????'])\n",
    "print('Minimum distance for records which have a duration larger than 60 mins is', min_distance_long_duration)"
   ]
  },
  {
   "cell_type": "markdown",
   "metadata": {},
   "source": [
    "You can also get this information by calling the *describe* method on a subset of the route_data."
   ]
  },
  {
   "cell_type": "code",
   "execution_count": null,
   "metadata": {
    "collapsed": true,
    "scrolled": true
   },
   "outputs": [],
   "source": [
    "route_data[route_data['Duration'] > 60].????"
   ]
  },
  {
   "cell_type": "markdown",
   "metadata": {},
   "source": [
    "Have you noticed something abnormal? It seems that the rider didn't move a lot in that trip which lasted at least one hour!\n",
    "\n",
    "To exclude these outliers, we need to clean the data before doing further analysis.\n",
    "\n",
    "## Question 8: Generate a dataset containing only routes which have:\n",
    "1. an average travel speed between 5 km/h and 50 km/h; and\n",
    "2. a duration longer than 60 minutes. \n",
    "\n",
    "To achieve this, let's try *loop* and *if* statements. (__This is not the best way to do it!__ But the purpose of this exercise is to get you familiar with loop and conditional statements.)\n",
    "\n",
    "The _drop_ method used in the code is explained [here](https://pandas.pydata.org/pandas-docs/stable/generated/pandas.DataFrame.drop.html)."
   ]
  },
  {
   "cell_type": "code",
   "execution_count": null,
   "metadata": {
    "collapsed": true
   },
   "outputs": [],
   "source": [
    "long_duration_routes = ???? # Create a subset of route_data which meets condition 2.\n",
    "\n",
    "print('The shape of the dataset before cleanning is: ', long_duration_routes.shape)\n",
    "\n",
    "routes_to_be_dropped = ?? # Create a empty list to keep records of rows to be dropped\n",
    "?? index, row ?? long_duration_routes.iterrows():\n",
    "    if ???? or row.AvSpeed >= 50: \n",
    "        routes_to_be_dropped.append(index) # Add the indexes of rows to be dropped into the list\n",
    "        \n",
    "cleaned_dataset = long_duration_routes.????(labels=routes_to_be_dropped) # Drop the records by index\n",
    "\n",
    "print('The shape of the dataset after cleanning is: ', cleaned_dataset.????)"
   ]
  },
  {
   "cell_type": "markdown",
   "metadata": {},
   "source": [
    "## Question 9: How many recreational trips have a duration longer than 60 minutes?\n",
    "\n",
    "*Hint*: Use the dataset you cleaned above! Attribute *RidePurpos* denotes the purpose of the trip, and the value for recreational trips is *Recreation*."
   ]
  },
  {
   "cell_type": "code",
   "execution_count": null,
   "metadata": {
    "collapsed": true
   },
   "outputs": [],
   "source": [
    "cleaned_dataset[cleaned_dataset['????'] ?? 'Recreation'].????"
   ]
  },
  {
   "cell_type": "markdown",
   "metadata": {},
   "source": [
    "Now it's time for you to try coding on your own! Please use the _'cleaned dataset'_ instead of _'route data'_ from now on.\n",
    "\n",
    "## Question 10: What is the top speed for recreational trips with a female rider in the cleaned dataset? \n",
    "\n",
    "The cell below shows a one-line yet illegible solution."
   ]
  },
  {
   "cell_type": "code",
   "execution_count": null,
   "metadata": {
    "collapsed": true
   },
   "outputs": [],
   "source": [
    "max(cleaned_dataset[cleaned_dataset['RidePurpos'] == 'Recreation'][cleaned_dataset[cleaned_dataset['RidePurpos'] == 'Recreation']['Gender'] == 'F']['TopSpeed'])"
   ]
  },
  {
   "cell_type": "markdown",
   "metadata": {},
   "source": [
    "Can you translate the code above into two or three lines of code so that people can better understanding your thinking?\n",
    "\n",
    "Don't worry if you need to use more lines! Our goal is to make the code legible, which will make people's lives easier!"
   ]
  },
  {
   "cell_type": "code",
   "execution_count": null,
   "metadata": {
    "collapsed": true
   },
   "outputs": [],
   "source": []
  },
  {
   "cell_type": "markdown",
   "metadata": {},
   "source": [
    "## Question 11: What are the top 10 most popular destinations for recreational trips in the cleaned dataset?\n",
    "\n",
    "*Hint:* You can try to let the notebook print them all (and count manually), or you can make use of this *[nlargest](https://pandas.pydata.org/pandas-docs/stable/generated/pandas.Series.nlargest.html)* method"
   ]
  },
  {
   "cell_type": "code",
   "execution_count": null,
   "metadata": {
    "collapsed": true
   },
   "outputs": [],
   "source": []
  },
  {
   "cell_type": "markdown",
   "metadata": {},
   "source": [
    "## Question 12: Make a scatter plot to see the distribution of the distance\n",
    "\n",
    "*Hint:* You can always go check [bar chart](https://plot.ly/python/bar-charts/) on plotly if you get stuck."
   ]
  },
  {
   "cell_type": "code",
   "execution_count": null,
   "metadata": {
    "collapsed": true
   },
   "outputs": [],
   "source": [
    "import ????.graph_objs as go\n",
    "from plotly.offline import init_notebook_mode, iplot\n",
    "\n",
    "init_notebook_mode() # Plot data in the notebook not to a file\n",
    "\n",
    "bined_distance = pd.cut(cleaned_dataset['Distance'], bins=20) # Distance are binned into 20 groups\n",
    "\n",
    "# Use plotly to build a bar chart\n",
    "???? = go.????(\n",
    "    x=bined_distance.????().index,  # The pandas series method value_counts() returns counts of unique values\n",
    "    y=bined_distance.????(),\n",
    "    name='Distance Distribution'\n",
    ")\n",
    "\n",
    "# Define the layout\n",
    "layout = go.Layout(title='Distance Distribution of cleaned dataset',\n",
    "                   plot_bgcolor='rgb(230,230,230)', # Background colour in RGB (Red, Green, Blue) format\n",
    "                   xaxis = dict(title='????'),  # Give axes proper titles\n",
    "                   yaxis = dict(title='????')\n",
    "                  )\n",
    "\n",
    "# Combine the trace and the layout into a figure\n",
    "fig = go.Figure(????=[trace], ????=layout)\n",
    "\n",
    "# Try figure out what function needs to be called to plot the figure!\n",
    "????(fig)"
   ]
  }
 ],
 "metadata": {
  "kernelspec": {
   "display_name": "Python 3",
   "language": "python",
   "name": "python3"
  },
  "language_info": {
   "codemirror_mode": {
    "name": "ipython",
    "version": 3
   },
   "file_extension": ".py",
   "mimetype": "text/x-python",
   "name": "python",
   "nbconvert_exporter": "python",
   "pygments_lexer": "ipython3",
   "version": "3.6.1"
  }
 },
 "nbformat": 4,
 "nbformat_minor": 2
}

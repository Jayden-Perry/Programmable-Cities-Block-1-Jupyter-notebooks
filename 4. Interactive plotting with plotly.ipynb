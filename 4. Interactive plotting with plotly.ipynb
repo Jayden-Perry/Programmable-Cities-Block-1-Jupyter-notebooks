{
 "cells": [
  {
   "cell_type": "markdown",
   "metadata": {},
   "source": [
    "# Interactive plotting with plotly"
   ]
  },
  {
   "cell_type": "markdown",
   "metadata": {},
   "source": [
    "Now we'll introduce one of Python's popular plotting libraries: plotly (documented [here](https://plot.ly/python/)). Plotly's strength is in easily creating interactive plots to view in a web browser. But it's not just a library: [plot.ly](https://plot.ly) is also a website where you can find and share plots.\n",
    "\n",
    "By default plotly runs online, meaning it saves your plot to your online plotly account. However for simplicity we'll be using it in offline mode, i.e. just in this notebook."
   ]
  },
  {
   "cell_type": "markdown",
   "metadata": {},
   "source": [
    "First we'll catch up to where we left off in the previous notebook: filter our WFS query to Sydney 2017 and read it to a dataframe called `listings` ."
   ]
  },
  {
   "cell_type": "code",
   "execution_count": null,
   "metadata": {},
   "outputs": [],
   "source": [
    "import pandas\n",
    "wfs_query = 'https://citydata.be.unsw.edu.au/geoserver/wfs?srsName=EPSG%3A4326&typename=geonode%3AInsideAirbnb_44_2015_17&outputFormat=csv&version=1.0.0&service=WFS&request=GetFeature'\n",
    "maxFeatures_param = '&maxFeatures=10'\n",
    "PropertyName_param = '&PropertyName=City,ScrapeDate,PropertyID,HostID,Latitude,Longitude,Price,ListType,MinNights'\n",
    "cql_filter_param = \"&cql_filter=City='Sydney'+AND+ScrapeDate='2017-04-03T00:00:00'\"\n",
    "\n",
    "url = wfs_query + PropertyName_param + cql_filter_param #  + maxFeatures_param\n",
    "listings = pandas.read_csv(url)\n",
    "\n",
    "listings.head()\n"
   ]
  },
  {
   "cell_type": "markdown",
   "metadata": {},
   "source": [
    "Before we can use plotly  we need to import it.\n",
    "\n",
    "To save typing later though, we'll import just the bits we need and assign a short alias to `graph_objs`. But why these bits?\n",
    "\n",
    "\n",
    "Plotly graphs are [JSON](https://en.wikipedia.org/wiki/JSON) objects with *dictionary* structures.\n",
    "\n",
    "You can create Plotly graphs manually by creating a dictionary form scratch, but programmers want efficiency!\n",
    "\n",
    "That's the reason why we are going to import `Graph_objs`. It contains functions which will help us generate graph objects (or 'figures') to visualise data much more easily.\n",
    "\n",
    "As mentioned above, Plotly is more than a library. You can upload your images onto the websites, but for this course, we will be focusing on generating figures offline in our Jupyter notebooks. \n",
    "\n",
    "*init_notebook_mode()* tells plotly that we want to plot graphs inside this Jupyter Notebook (instead of opening a new webpage), and when calling the `iplot()` function, the figure (JSON source file) will be injected into the notebook and you can view it right here.\n",
    "\n",
    "Let's see how it works."
   ]
  },
  {
   "cell_type": "code",
   "execution_count": null,
   "metadata": {},
   "outputs": [],
   "source": [
    "import plotly.graph_objs as go\n",
    "from plotly.offline import init_notebook_mode, iplot\n",
    "\n",
    "init_notebook_mode() # Plot data in the notebook not to a file"
   ]
  },
  {
   "cell_type": "markdown",
   "metadata": {},
   "source": [
    "For our first plot let's just use latitude by longitude as a scatter plot to produce a simple map.\n",
    "\n",
    "**To generate a plot we need the following objects:**  \n",
    "* `trace` - a data series and the specifications for how to plot it\n",
    "* `layout` - the look of the plot and other features unrelated to the data\n",
    "* `figure` - the final object to be plotted, containing one or more traces and the layout\n",
    "\n",
    "After a `figure` object is created, don't forget to call `iplot()` function to plot it."
   ]
  },
  {
   "cell_type": "code",
   "execution_count": null,
   "metadata": {
    "scrolled": true
   },
   "outputs": [],
   "source": [
    "# Use plotly's Scatter function to define the trace\n",
    "trace = go.Scatter(\n",
    "                    x=listings['Longitude'], y=listings['Latitude'], # Which parts of the data to use\n",
    "                    mode='markers',   # Markers not lines\n",
    "                    marker=dict(      # Size and colour of markers\n",
    "                            size='5',\n",
    "                            color = 'rgb(150,80,200)' # Marker colour in RGB (Red, Green, Blue) format\n",
    "                            ),\n",
    "                    name='map'        # Additional options\n",
    "                   )\n",
    "\n",
    "# Define the layout\n",
    "layout = go.Layout(title='Simple Map of Sydney Airbnb Listings 2017',\n",
    "                   plot_bgcolor='rgb(230,230,230)', # Background colour in RGB (Red, Green, Blue) format\n",
    "                   xaxis = dict(title='Longitude'),  # Axis titles\n",
    "                   yaxis = dict(title='Latitude')\n",
    "                  )\n",
    "\n",
    "# Combine the trace and the layout into a figure\n",
    "fig = go.Figure(data=[trace], layout=layout)\n",
    "\n",
    "# Plot it!\n",
    "iplot(fig)"
   ]
  },
  {
   "cell_type": "markdown",
   "metadata": {},
   "source": [
    "If you hover your plot you'll see a toolbar in the top-right corner. This contains interactive widgets to help you explore the data.\n",
    "\n",
    "You can *save or upload the figure* (to the plotly website!), or explore it by _zooming in/out_, _panning around_, and also _selecting by box/lasso_.\n",
    "\n",
    "Feel free to play around with those tools! If you can't find your plots, try  _reset_ or _autoscaled_. \n",
    "\n",
    "If you don't understand what the last three tools are for, don't worry! We will explain them later."
   ]
  },
  {
   "cell_type": "markdown",
   "metadata": {},
   "source": [
    "Where are most of the Airbnb listings?\n",
    "\n",
    "Generally, houses are more expensive nearer to the coast.\n",
    "\n",
    "Does the same apply to Airbnb? Let's plot price against longitude to find out.\n",
    "\n",
    "**Copy the code above into the cell below, and change it to plot Price instead of Latitude. Change the title too.**"
   ]
  },
  {
   "cell_type": "code",
   "execution_count": null,
   "metadata": {
    "scrolled": true
   },
   "outputs": [],
   "source": []
  },
  {
   "cell_type": "markdown",
   "metadata": {},
   "source": [
    "Where are the more expensive Airbnb listings in your plot above?"
   ]
  },
  {
   "cell_type": "markdown",
   "metadata": {},
   "source": [
    "Let's make a heatmap to show price using coloured markers on the map.\n",
    "\n",
    "What part of our map code would we need to change?\n",
    "\n",
    "We'll need to change the marker colour in the trace object from a fixed colour to one based on price. We'll also clip the upper outliers - listings above $1000 per night - to better show the variance of most of the data. (Try experimenting with different values here.)\n",
    "\n",
    "Finally we'll show a legend for the heatmap."
   ]
  },
  {
   "cell_type": "code",
   "execution_count": null,
   "metadata": {},
   "outputs": [],
   "source": [
    "trace = go.Scatter(\n",
    "                    x=listings['Longitude'], y=listings['Latitude'], # Data\n",
    "                    mode='markers', name='map',\n",
    "                    marker=dict(\n",
    "                                size='5',\n",
    "                                color = listings['Price'].clip_upper(1000), \n",
    "                                #clip the price to be max 1000 to better show the variance of price\n",
    "                                colorscale='Viridis',\n",
    "                                showscale=True\n",
    "                                )\n",
    "                    )\n",
    "layout = go.Layout(title='Heatmap of Sydney Airbnb Listings by Price, 2017',\n",
    "                   plot_bgcolor='rgb(230, 230,230)',\n",
    "                   xaxis = dict(title='Longitude'),\n",
    "                   yaxis = dict(title='Latitude')\n",
    "                  )\n",
    "\n",
    "fig = go.Figure(data=[trace], layout=layout)\n",
    "\n",
    "iplot(fig)"
   ]
  },
  {
   "cell_type": "markdown",
   "metadata": {},
   "source": [
    "## Aggregation\n",
    "\n",
    "Let's look at the Airbnb hosts. How many listings does each host manage? We need to aggregate the data by HostID and plot the number of listings for each host. To do this we must construct the data 'manually' rather than using the Scatter function which does not support transforms."
   ]
  },
  {
   "cell_type": "code",
   "execution_count": null,
   "metadata": {},
   "outputs": [],
   "source": [
    "trace = [{\n",
    "  'type': 'scatter',\n",
    "  'x': listings['HostID'],\n",
    "  'y': listings['PropertyID'],\n",
    "  'mode': 'markers',\n",
    "  'transforms': [{\n",
    "    'type': 'aggregate',\n",
    "    'groups': listings['HostID'],\n",
    "    'aggregations': [{'target': 'y', 'func': 'count', 'enabled': True}]\n",
    "  }]\n",
    "}]\n",
    "\n",
    "layout = go.Layout(title='Sydney Airbnb Listings Per Host 2017',\n",
    "                   plot_bgcolor='rgb(230, 230,230)')\n",
    "\n",
    "iplot({'data': trace, 'layout': layout}, validate=False)"
   ]
  },
  {
   "cell_type": "markdown",
   "metadata": {},
   "source": [
    "Some Airbnb hosts manage over a hundred properties!\n",
    "\n",
    "How much are these portfolios worth? Let's look at potential nightly income, i.e. the sum of the nightly rates for all properties hosted by each host."
   ]
  },
  {
   "cell_type": "code",
   "execution_count": null,
   "metadata": {
    "scrolled": true
   },
   "outputs": [],
   "source": [
    "host_by_total_price = [dict(\n",
    "  type = 'scatter',\n",
    "  x = listings['HostID'],\n",
    "  y = listings['Price'],\n",
    "  mode = 'markers',\n",
    "  transforms = [dict(\n",
    "    type = 'aggregate',\n",
    "    groups = listings['HostID'],\n",
    "    aggregations = [dict(\n",
    "        target = 'y', func = 'sum', enabled = True),\n",
    "    ]\n",
    "  )]\n",
    ")]\n",
    "\n",
    "iplot({'data': host_by_total_price}, validate=False)\n"
   ]
  },
  {
   "cell_type": "markdown",
   "metadata": {},
   "source": [
    "Wow some of those portfolios are huge!"
   ]
  },
  {
   "cell_type": "markdown",
   "metadata": {},
   "source": [
    "## Pie charts\n",
    "Now let's try some new charts!\n",
    "\n",
    "There are three types of listings available on Airbnb: _Entire home/apartment, private room and shared room_. \n",
    "\n",
    "Which category has the most listings? Let's find out by using a pie chart!\n"
   ]
  },
  {
   "cell_type": "code",
   "execution_count": null,
   "metadata": {},
   "outputs": [],
   "source": [
    "labels = listings['ListType'].value_counts().index\n",
    "values = listings['ListType'].value_counts()\n",
    "colors = ['#FEBFB3', '#E1396C', '#96D38C']#, '#D0F9B1']\n",
    "\n",
    "trace = go.Pie(labels=labels, values=values,\n",
    "               hoverinfo='label+percent', textinfo='value', #Change the text and hover info\n",
    "               hole=0.4, # Make a donut style pie chart!\n",
    "               textfont=dict(size=20),\n",
    "               marker=dict(colors=colors, \n",
    "                           line=dict(color='#000000', width=2)))\n",
    "layout = go.Layout(title='Sydney Airbnb Listings 2017 - List type',\n",
    "                   plot_bgcolor='rgb(230, 230,230)')\n",
    "\n",
    "fig = go.Figure(data=[trace], layout=layout)\n",
    "\n",
    "iplot(fig)"
   ]
  },
  {
   "cell_type": "markdown",
   "metadata": {},
   "source": [
    "Looks like \"Entire home/apt\" is dominating the Sydney market!\n",
    "\n",
    "## Bar charts\n",
    "So in terms of minimum booking nights required, is there a difference between those three categories?\n",
    "\n",
    "Let's try a bar chart with 3 groups to see if we can find the answer!\n",
    "\n"
   ]
  },
  {
   "cell_type": "code",
   "execution_count": null,
   "metadata": {
    "scrolled": true
   },
   "outputs": [],
   "source": [
    "# Remove the longer minimum stays which have only a small number of records\n",
    "listings_shortstay = listings[listings['MinNights'] <= 7]\n",
    "\n",
    "Entire_home_records = listings_shortstay[listings_shortstay['ListType'] == 'Entire home/apt']['MinNights']\n",
    "Private_room_records = listings_shortstay[listings_shortstay['ListType'] == 'Private room']['MinNights']\n",
    "Shared_room_records = listings_shortstay[listings_shortstay['ListType'] == 'Shared room']['MinNights']\n",
    "\n",
    "trace1 = go.Bar(\n",
    "    x=Entire_home_records.value_counts().index,  # The pandas series method value_counts() returns counts of unique values\n",
    "    y=Entire_home_records.value_counts() / len(Entire_home_records) * 100,\n",
    "    name='Entire home/apartment'\n",
    ")\n",
    "\n",
    "trace2 = go.Bar(\n",
    "    x=Private_room_records.value_counts().index,\n",
    "    y=Private_room_records.value_counts() / len(Private_room_records) * 100,\n",
    "    name='Private room'\n",
    ")\n",
    "\n",
    "trace3 = go.Bar(\n",
    "    x=Shared_room_records.value_counts().index,\n",
    "    y=Shared_room_records.value_counts() / len(Shared_room_records) * 100,\n",
    "    name='Shared room'\n",
    ")\n",
    "\n",
    "data = [trace1, trace2, trace3]\n",
    "layout = go.Layout(\n",
    "    title ='Sydney Airbnb Listings 2017 - Minimum Booking Nights required',\n",
    "    barmode ='group', # Show bars side by side\n",
    "    xaxis = dict(title='Minimum Nights'),\n",
    "    yaxis = dict(title='Percentage')\n",
    ")\n",
    "\n",
    "fig = go.Figure(data=data, layout=layout)\n",
    "iplot(fig)"
   ]
  },
  {
   "cell_type": "markdown",
   "metadata": {},
   "source": [
    "Looks like you will have more choice of entire home/apartments if you are staying for more than 1 night!\n",
    "\n",
    "Remember those interactive tools we didn't used before? Let's try the last two - Show closest data/compare data on hover.\n",
    "\n",
    "Click on each tool and move your cursor to a group of bars. Do you notice the difference?\n",
    "\n",
    "*Compare data on hover* gives you information on all plots with the same X value, while *show closest data on hover* provides you only the closest data points to your cursor.\n",
    "\n",
    "Now you know how to plot some basic charts with Plotly! Here is a quick [cheatsheet](https://images.plot.ly/plotly-documentation/images/python_cheat_sheet.pdf) for your reference if you want to take a peak of other kind of charts."
   ]
  },
  {
   "cell_type": "code",
   "execution_count": null,
   "metadata": {
    "collapsed": true
   },
   "outputs": [],
   "source": []
  }
 ],
 "metadata": {
  "kernelspec": {
   "display_name": "Python 3",
   "language": "python",
   "name": "python3"
  },
  "language_info": {
   "codemirror_mode": {
    "name": "ipython",
    "version": 3
   },
   "file_extension": ".py",
   "mimetype": "text/x-python",
   "name": "python",
   "nbconvert_exporter": "python",
   "pygments_lexer": "ipython3",
   "version": "3.6.1"
  }
 },
 "nbformat": 4,
 "nbformat_minor": 2
}

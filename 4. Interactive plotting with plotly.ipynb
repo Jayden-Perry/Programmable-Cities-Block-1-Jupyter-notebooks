{
 "cells": [
  {
   "cell_type": "markdown",
   "metadata": {},
   "source": [
    "# Interactive plotting with plotly"
   ]
  },
  {
   "cell_type": "markdown",
   "metadata": {},
   "source": [
    "Now we'll introduce one of Python's popular plotting libraries: plotly (documented [here](https://plot.ly/python/)). Plotly's strength is in easily creating interactive plots to view in a web browser. But it's not just a library: [plot.ly](https://plot.ly) is also a website where you can find and share plots.\n",
    "\n",
    "By default plotly runs online, meaning it saves your plot to your online plotly account. However for simplicity we'll be using it offline, just in this notebook."
   ]
  },
  {
   "cell_type": "markdown",
   "metadata": {},
   "source": [
    "First we'll catch up to where we left off in the previous notebook: filter our WFS query to Sydney 2017 and read it to a dataframe called `listings` ."
   ]
  },
  {
   "cell_type": "code",
   "execution_count": null,
   "metadata": {
    "collapsed": true
   },
   "outputs": [],
   "source": [
    "import pandas\n",
    "wfs_query = 'https://citydata.be.unsw.edu.au/geoserver/wfs?srsName=EPSG%3A4326&typename=geonode%3AInsideAirbnb_44_2015_17&outputFormat=csv&version=1.0.0&service=WFS&request=GetFeature'\n",
    "maxFeatures_param = '&maxFeatures=10'\n",
    "PropertyName_param = '&PropertyName=City,ScrapeDate,PropertyID,HostID,Latitude,Longitude,Price'\n",
    "cql_filter_param = \"&cql_filter=City='Sydney'+AND+ScrapeDate='2017-04-03T00:00:00'\"\n",
    "\n",
    "url = wfs_query + PropertyName_param + cql_filter_param #  + maxFeatures_param\n",
    "listings = pandas.read_csv(url)\n",
    "\n",
    "listings.head()"
   ]
  },
  {
   "cell_type": "markdown",
   "metadata": {},
   "source": [
    "Before we can use plotly  we need to import it. To save typing later though, we'll import just the bits we need and assign a short alias to `graph_objs`.\n",
    "\n",
    "*TODO: explain graph_objs, notebook mode and iplot.*"
   ]
  },
  {
   "cell_type": "code",
   "execution_count": null,
   "metadata": {
    "collapsed": true
   },
   "outputs": [],
   "source": [
    "import plotly.graph_objs as go\n",
    "from plotly.offline import init_notebook_mode, iplot\n",
    "\n",
    "init_notebook_mode() # Plot data in the notebook not to a file"
   ]
  },
  {
   "cell_type": "markdown",
   "metadata": {},
   "source": [
    "For our first plot let's just use latitude by longitude as a scatter plot to produce a simple map.\n",
    "\n",
    "*TODO: explain trace, layout, figure.*"
   ]
  },
  {
   "cell_type": "code",
   "execution_count": null,
   "metadata": {
    "collapsed": true,
    "scrolled": true
   },
   "outputs": [],
   "source": [
    "trace = go.Scatter(\n",
    "                    x=listings['Longitude'], y=listings['Latitude'], # Data\n",
    "                    mode='markers', name='map' # Additional options\n",
    "                   )\n",
    "\n",
    "layout = go.Layout(title='Simple Map of Sydney Airbnb Listings 2017',\n",
    "                   plot_bgcolor='rgb(230, 230,230)')\n",
    "\n",
    "fig = go.Figure(data=[trace], layout=layout)\n",
    "\n",
    "iplot(fig)"
   ]
  },
  {
   "cell_type": "markdown",
   "metadata": {},
   "source": [
    "*TODO: note the interactive widgets and their use*"
   ]
  },
  {
   "cell_type": "markdown",
   "metadata": {},
   "source": [
    "Sydney is a coastal city. Where are most of the Airbnb listings?\n",
    "\n",
    "Generally, houses are more expensive nearer to the coast.\n",
    "\n",
    "Does the same apply to Airbnb? Let's plot price against longitude to find out.\n",
    "\n",
    "**Copy the code above into the cell below, and change it to plot Price instead of Latitude. Change the title too.**"
   ]
  },
  {
   "cell_type": "code",
   "execution_count": null,
   "metadata": {
    "collapsed": true
   },
   "outputs": [],
   "source": []
  },
  {
   "cell_type": "markdown",
   "metadata": {},
   "source": [
    "*TODO use https://plot.ly/python/line-and-scatter/#scatter-with-a-color-dimension to make a heatmap by price from the above"
   ]
  },
  {
   "cell_type": "markdown",
   "metadata": {},
   "source": [
    "## Aggregation\n",
    "\n",
    "Let's look at the Airbnb hosts. How many listings does each host manage? We need to aggregate the data by HostID and plot the number of listings for each host. To do this we must construct the data 'manually' rather than using the Scatter function."
   ]
  },
  {
   "cell_type": "code",
   "execution_count": null,
   "metadata": {
    "collapsed": true
   },
   "outputs": [],
   "source": [
    "trace = [{\n",
    "  'type': 'scatter',\n",
    "  'x': listings['HostID'],\n",
    "  'y': listings['PropertyID'],\n",
    "  'mode': 'markers',\n",
    "  'transforms': [{\n",
    "    'type': 'aggregate',\n",
    "    'groups': listings['HostID'],\n",
    "    'aggregations': [{'target': 'y', 'func': 'count', 'enabled': True}]\n",
    "  }]\n",
    "}]\n",
    "\n",
    "layout = go.Layout(title='Sydney Airbnb Listings Per Host 2017',\n",
    "                   plot_bgcolor='rgb(230, 230,230)')\n",
    "\n",
    "iplot({'data': trace, 'layout': layout}, validate=False)"
   ]
  },
  {
   "cell_type": "markdown",
   "metadata": {},
   "source": [
    "Some Airbnb hosts manage over a hundred properties!\n",
    "\n",
    "How much are these portfolios worth? Let's look at potential nightly income, i.e. the sum of the nightly rates for all properties hosted by each host."
   ]
  },
  {
   "cell_type": "code",
   "execution_count": null,
   "metadata": {
    "collapsed": true,
    "scrolled": true
   },
   "outputs": [],
   "source": [
    "host_by_total_price = [dict(\n",
    "  type = 'scatter',\n",
    "  x = listings['HostID'],\n",
    "  y = listings['Price'],\n",
    "  mode = 'markers',\n",
    "  transforms = [dict(\n",
    "    type = 'aggregate',\n",
    "    groups = listings['HostID'],\n",
    "    aggregations = [dict(\n",
    "        target = 'y', func = 'sum', enabled = True),\n",
    "    ]\n",
    "  )]\n",
    ")]\n",
    "\n",
    "iplot({'data': host_by_total_price}, validate=False)\n"
   ]
  },
  {
   "cell_type": "markdown",
   "metadata": {},
   "source": [
    "Wow some of those portfolios are huge!"
   ]
  },
  {
   "cell_type": "markdown",
   "metadata": {},
   "source": [
    "*TODO: bar chart ...of?*\n",
    "\n",
    "*TODO: pie chart ...of entire home vs room?*\n",
    "\n"
   ]
  }
 ],
 "metadata": {
  "kernelspec": {
   "display_name": "Python 3",
   "language": "python",
   "name": "python3"
  },
  "language_info": {
   "codemirror_mode": {
    "name": "ipython",
    "version": 3
   },
   "file_extension": ".py",
   "mimetype": "text/x-python",
   "name": "python",
   "nbconvert_exporter": "python",
   "pygments_lexer": "ipython3",
   "version": "3.6.1"
  }
 },
 "nbformat": 4,
 "nbformat_minor": 2
}

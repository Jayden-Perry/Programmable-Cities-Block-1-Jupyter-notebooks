{
 "cells": [
  {
   "cell_type": "markdown",
   "metadata": {},
   "source": [
    "# Python libraries for data science"
   ]
  },
  {
   "cell_type": "markdown",
   "metadata": {},
   "source": [
    "| Type           | Library Name | Commits | Contributors | Releases | Watch | Star  | Fork | Description                                                      |\n",
    "|----------------|--------------|---------|--------------|----------|-------|-------|------|------------------------------------------------------------------|\n",
    "| Data wrangling | NumPy        | 17453   | 605          | 133      | 376   | 6402  | 2567 | Operations on n-arrays and matrices                              |\n",
    "|                | SciPy        | 18640   | 576          | 96       | 283   | 4097  | 2174 | Linear algebra, optimization, integration, and statistics        |\n",
    "|                | pandas       | 16534   | 990          | 88       | 788   | 12855 | 4983 | Quick and easy data manipulation, aggregation, and visualisation |\n",
    "| Visualisation  | matplotlib   | 24484   | 685          | 67       | 500   | 6748  | 3171 | Simple and powerful visualisations, but low level                |\n",
    "|                | seaborn      | 2010    | 77           | 13       | 196   | 4597  | 696  | Visualisation of statistical models including heat maps          |\n",
    "|                | plotly       | 2787    | 45           | 8        | 188   | 3020  | 732  | Web-based toolbox for building visualisations                    |\n",
    "|                | bokeh        | 16730   | 277          | 52       | 357   | 7190  | 1846 | Interactive visualisations                                       |\n",
    "| Statistics     | StatsModels  | 9729    | 144          | 19       | 221   | 2597  | 1162 | Data exploration via statistical models, assertions and analysis |\n",
    "| Data scraping  | scrapy       | 6594    | 276          | 81       | 1640  | 25683 | 6469 | Crawling web pages to retrieve structured data                   |"
   ]
  },
  {
   "attachments": {},
   "cell_type": "markdown",
   "metadata": {},
   "source": [
    "*Source: [DATASCIENCE.COM](https://www.datascience.com/blog/top-python-libraries-for-data-science-in-2017) 2018*"
   ]
  }
 ],
 "metadata": {
  "kernelspec": {
   "display_name": "Python 3",
   "language": "python",
   "name": "python3"
  },
  "language_info": {
   "codemirror_mode": {
    "name": "ipython",
    "version": 3
   },
   "file_extension": ".py",
   "mimetype": "text/x-python",
   "name": "python",
   "nbconvert_exporter": "python",
   "pygments_lexer": "ipython3",
   "version": "3.6.1"
  }
 },
 "nbformat": 4,
 "nbformat_minor": 2
}

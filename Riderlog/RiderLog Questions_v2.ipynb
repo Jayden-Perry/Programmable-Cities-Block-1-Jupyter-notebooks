{
 "cells": [
  {
   "cell_type": "markdown",
   "metadata": {},
   "source": [
    "In this notebook, we are going to use RiderLog dataset, which contains all bicycle trips collected by RiderLog between 2010 and 2013 in Greater Sydney region, thanks to [CityData](https://citydata.be.unsw.edu.au/layers/geonode%3AGreaterSydney_NSW_RiderLog_2010to2013).<br \\><br \\>\n",
    "\n",
    "The original data is in a point format, where bicycle trips are divided into points which are centroids of cells in a 500m * 500m grid. In order to better explore the relationship between attributes of routes, we kept only one records for each RouteId. While sacrificing some of the spatial information, the dataset is now more easy for you to play with!<br \\><br \\>\n",
    "\n",
    "Let's get started!<br \\>\n",
    "\n",
    "__First, lets import pandas library and the RiderLog data. __<br \\>\n",
    "\n",
    "__point_data__ contains the original dataset, and the duplicates have been droped for you and stored in the variable __route_data__."
   ]
  },
  {
   "cell_type": "code",
   "execution_count": null,
   "metadata": {},
   "outputs": [],
   "source": [
    "import ____ as pd\n",
    "\n",
    "point_data = pd.read_csv(\"GreaterSydney_NSW_RiderLog_2010to2013.csv\")\n",
    "\n",
    "route_data = point_data.drop_duplicates(subset='RouteId')"
   ]
  },
  {
   "cell_type": "markdown",
   "metadata": {},
   "source": [
    "__Appitizer - explore the dataset with _describe_ method:__ <br \\>\n",
    "How many routes are there in the dataset?"
   ]
  },
  {
   "cell_type": "code",
   "execution_count": null,
   "metadata": {},
   "outputs": [],
   "source": [
    "route_data.____"
   ]
  },
  {
   "cell_type": "markdown",
   "metadata": {},
   "source": [
    "There should be 14313 routes with 25 attributes attached to each one of them. <br \\> <br \\>\n",
    "What is the mean, median and max value for distance? <br \\>\n",
    "Have you observed anything abnormal in the dataset? (_Hint: check the minimum values_)"
   ]
  },
  {
   "cell_type": "code",
   "execution_count": null,
   "metadata": {},
   "outputs": [],
   "source": [
    "route_data.describe()"
   ]
  },
  {
   "cell_type": "markdown",
   "metadata": {},
   "source": [
    "The __mean, median and max__ value for distance should be __11.51, 8.85, 176.45__, respectively. <br \\> <br \\>\n",
    "\n",
    "How many numerical attributes are there in the dataset? Try get this information by getting the shape of the dataframe generated above by _describe_ method."
   ]
  },
  {
   "cell_type": "code",
   "execution_count": null,
   "metadata": {},
   "outputs": [],
   "source": [
    "route_data.describe()._____"
   ]
  },
  {
   "cell_type": "markdown",
   "metadata": {},
   "source": [
    "How many of them are integer attributes? <br />\n",
    "\n",
    "_Hint_: Apart from describing the dataset, Python also knows how to count unique values! See [value_counts()](https://pandas.pydata.org/pandas-docs/stable/generated/pandas.Series.value_counts.html) method."
   ]
  },
  {
   "cell_type": "code",
   "execution_count": null,
   "metadata": {},
   "outputs": [],
   "source": [
    "route_data.dtypes._______"
   ]
  },
  {
   "cell_type": "markdown",
   "metadata": {},
   "source": [
    "There are __19 numerical attributes__ in the dataset, where __13__ of them contain integer only, and __6__ of them contain floats.<br \\><br \\>Now let's see if we can findout relationships between attributes! <br \\>\n",
    "__How many records have a Duration larger than 60 mins?__<br \\>\n",
    "Remember to tryout both the __shape__ method and the new __value counting__method!"
   ]
  },
  {
   "cell_type": "code",
   "execution_count": null,
   "metadata": {},
   "outputs": [],
   "source": [
    "route_data[route_data['Duration'] ____].shape"
   ]
  },
  {
   "cell_type": "code",
   "execution_count": null,
   "metadata": {},
   "outputs": [],
   "source": [
    "(route_data['Duration'] > 60).value_counts()"
   ]
  },
  {
   "cell_type": "markdown",
   "metadata": {},
   "source": [
    "__2567__ out of 14313 routes have a duration longer than 60 mins! <br \\><br \\>\n",
    "\n",
    "__For all records matches the descrition above, what is the minimum distance of them?__ <br \\> \n",
    "\n",
    "Hint: To get information on a single column, you can __index that specific column__ and perform something similar that you have used in the lecturer. Yes! I'm talking about max function. If you get stucked, try this [link](https://docs.python.org/3/library/functions.html)!"
   ]
  },
  {
   "cell_type": "code",
   "execution_count": null,
   "metadata": {
    "scrolled": true
   },
   "outputs": [],
   "source": [
    "route_data[route_data['Duration'] > 60].describe()"
   ]
  },
  {
   "cell_type": "code",
   "execution_count": null,
   "metadata": {},
   "outputs": [],
   "source": [
    "min_distance_long_duration = ___(route_data[route_data['Duration'] > 60]['Distance'])\n",
    "print('Minimum distance for records which have a duration larger than 60 mins is', min_distance_long_duration)"
   ]
  },
  {
   "cell_type": "markdown",
   "metadata": {},
   "source": [
    "The minimum distance is __0.22km__ for a trip lasts longer than 60 mins. Emm...\n",
    "\n",
    "__How many recreational trips have a duration longer than 60 minutes?__ <br \\> \n",
    "To answer this question, we can first get a subset of the dataset meets the description. <br \\>\n",
    "Then, we can focus on the subset to find out the answer of this question. <br \\>\n",
    "_Hint_:Attribute _RidePurpos_ denotes the purpose of the trip, and the key for recreational trips is _Recreation_.\n"
   ]
  },
  {
   "cell_type": "code",
   "execution_count": null,
   "metadata": {},
   "outputs": [],
   "source": [
    "long_duration_routes = route_data[route_data['Duration'] > 60]\n",
    "\n",
    "long_duration_routes[long_duration_routes['_____'] == ________].shape"
   ]
  },
  {
   "cell_type": "markdown",
   "metadata": {},
   "source": [
    "There are __1412__ recreational trips with a duration longer than 60 minutes!"
   ]
  },
  {
   "cell_type": "markdown",
   "metadata": {},
   "source": [
    "__Exercise Question:__\n",
    "1. What is the top speed for recreational trips with a female rider?\n",
    "2. What is the most popular destination for recreational trips? \n",
    "3. Fasted Top Speed is generated by who?\n",
    "4. Which rider generated most trips?"
   ]
  },
  {
   "cell_type": "code",
   "execution_count": null,
   "metadata": {
    "collapsed": true
   },
   "outputs": [],
   "source": []
  }
 ],
 "metadata": {
  "kernelspec": {
   "display_name": "Python 3",
   "language": "python",
   "name": "python3"
  },
  "language_info": {
   "codemirror_mode": {
    "name": "ipython",
    "version": 3
   },
   "file_extension": ".py",
   "mimetype": "text/x-python",
   "name": "python",
   "nbconvert_exporter": "python",
   "pygments_lexer": "ipython3",
   "version": "3.6.1"
  }
 },
 "nbformat": 4,
 "nbformat_minor": 2
}

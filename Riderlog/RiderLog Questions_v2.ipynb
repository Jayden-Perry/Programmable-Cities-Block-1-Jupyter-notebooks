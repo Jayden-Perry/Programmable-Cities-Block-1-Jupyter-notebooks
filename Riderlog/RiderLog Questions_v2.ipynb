{
 "cells": [
  {
   "cell_type": "markdown",
   "metadata": {},
   "source": [
    "In this notebook, we are going to use RiderLog dataset, which contains all bicycle trips collected by RiderLog between 2010 and 2013 in Greater Sydney region, thanks to [CityData](https://citydata.be.unsw.edu.au/layers/geonode%3AGreaterSydney_NSW_RiderLog_2010to2013).<br \\><br \\>\n",
    "\n",
    "The original data is in a point format, where bicycle trips are divided into points which are centroids of cells in a 500m * 500m grid. In order to better explore the relationship between attributes of routes, we kept only one records for each RouteId. While sacrificing some of the spatial information, the dataset is now more easy for you to play with!<br \\><br \\>\n",
    "\n",
    "Let's get started!<br \\>\n",
    "\n",
    "__First, lets import pandas library and the RiderLog data. __<br \\>\n",
    "\n",
    "__point_data__ contains the original dataset, and the duplicates have been droped for you and stored in the variable __route_data__."
   ]
  },
  {
   "cell_type": "code",
   "execution_count": 17,
   "metadata": {
    "collapsed": false
   },
   "outputs": [],
   "source": [
    "import ____ as pd\n",
    "\n",
    "point_data = pd.read_csv(\"GreaterSydney_NSW_RiderLog_2010to2013.csv\")\n",
    "\n",
    "route_data = point_data.drop_duplicates(subset='RouteId')"
   ]
  },
  {
   "cell_type": "markdown",
   "metadata": {},
   "source": [
    "__Appitizer - explore the dataset with _describe_ method:__ <br \\>\n",
    "How many routes are there in the dataset?"
   ]
  },
  {
   "cell_type": "code",
   "execution_count": 20,
   "metadata": {
    "collapsed": false
   },
   "outputs": [
    {
     "data": {
      "text/plain": [
       "(14313, 25)"
      ]
     },
     "execution_count": 20,
     "metadata": {},
     "output_type": "execute_result"
    }
   ],
   "source": [
    "route_data.____"
   ]
  },
  {
   "cell_type": "markdown",
   "metadata": {},
   "source": [
    "There should be 14313 routes with 25 attributes attached to each one of them. <br \\> <br \\>\n",
    "What is the mean, median and max value for distance? <br \\>\n",
    "Have you observed anything abnormal in the dataset? (_Hint: check the minimum values_)"
   ]
  },
  {
   "cell_type": "code",
   "execution_count": 36,
   "metadata": {
    "collapsed": false
   },
   "outputs": [
    {
     "data": {
      "text/html": [
       "<div>\n",
       "<table border=\"1\" class=\"dataframe\">\n",
       "  <thead>\n",
       "    <tr style=\"text-align: right;\">\n",
       "      <th></th>\n",
       "      <th>RouteId</th>\n",
       "      <th>RiderID</th>\n",
       "      <th>TopSpeed</th>\n",
       "      <th>Distance</th>\n",
       "      <th>Duration</th>\n",
       "      <th>AvSpeed</th>\n",
       "      <th>SA1_start</th>\n",
       "      <th>SA1_end</th>\n",
       "      <th>YOB</th>\n",
       "      <th>Age</th>\n",
       "      <th>startyear</th>\n",
       "      <th>startmonth</th>\n",
       "      <th>startdate</th>\n",
       "      <th>startday</th>\n",
       "      <th>starthour</th>\n",
       "      <th>startmin</th>\n",
       "      <th>Cell_SA1</th>\n",
       "      <th>Cell_SA2</th>\n",
       "      <th>Cell_ID</th>\n",
       "    </tr>\n",
       "  </thead>\n",
       "  <tbody>\n",
       "    <tr>\n",
       "      <th>count</th>\n",
       "      <td>14313.000000</td>\n",
       "      <td>14313.000000</td>\n",
       "      <td>14313.000000</td>\n",
       "      <td>14313.000000</td>\n",
       "      <td>14313.000000</td>\n",
       "      <td>14313.000000</td>\n",
       "      <td>1.431300e+04</td>\n",
       "      <td>1.431300e+04</td>\n",
       "      <td>11134.000000</td>\n",
       "      <td>11134.000000</td>\n",
       "      <td>14313.000000</td>\n",
       "      <td>14313.000000</td>\n",
       "      <td>14313.000000</td>\n",
       "      <td>14313.000000</td>\n",
       "      <td>14313.000000</td>\n",
       "      <td>14313.000000</td>\n",
       "      <td>1.431300e+04</td>\n",
       "      <td>1.431300e+04</td>\n",
       "      <td>14313.000000</td>\n",
       "    </tr>\n",
       "    <tr>\n",
       "      <th>mean</th>\n",
       "      <td>68507.194508</td>\n",
       "      <td>4275.132118</td>\n",
       "      <td>11.178481</td>\n",
       "      <td>11.514460</td>\n",
       "      <td>42.831100</td>\n",
       "      <td>4.583713</td>\n",
       "      <td>1.191439e+10</td>\n",
       "      <td>1.188042e+10</td>\n",
       "      <td>1971.192923</td>\n",
       "      <td>42.807077</td>\n",
       "      <td>2011.272689</td>\n",
       "      <td>7.089289</td>\n",
       "      <td>15.784881</td>\n",
       "      <td>3.934815</td>\n",
       "      <td>11.928666</td>\n",
       "      <td>29.668833</td>\n",
       "      <td>1.187978e+10</td>\n",
       "      <td>1.187978e+08</td>\n",
       "      <td>18073.520855</td>\n",
       "    </tr>\n",
       "    <tr>\n",
       "      <th>std</th>\n",
       "      <td>41923.387642</td>\n",
       "      <td>2566.966248</td>\n",
       "      <td>3.779017</td>\n",
       "      <td>10.787518</td>\n",
       "      <td>57.523297</td>\n",
       "      <td>1.802794</td>\n",
       "      <td>1.375774e+09</td>\n",
       "      <td>7.028357e+08</td>\n",
       "      <td>11.731699</td>\n",
       "      <td>11.731699</td>\n",
       "      <td>1.018989</td>\n",
       "      <td>3.450155</td>\n",
       "      <td>8.615184</td>\n",
       "      <td>1.783099</td>\n",
       "      <td>4.865348</td>\n",
       "      <td>17.217581</td>\n",
       "      <td>4.878072e+08</td>\n",
       "      <td>4.878072e+06</td>\n",
       "      <td>5656.056532</td>\n",
       "    </tr>\n",
       "    <tr>\n",
       "      <th>min</th>\n",
       "      <td>338.000000</td>\n",
       "      <td>95.000000</td>\n",
       "      <td>0.000000</td>\n",
       "      <td>0.220000</td>\n",
       "      <td>-4583.170000</td>\n",
       "      <td>-0.020000</td>\n",
       "      <td>-1.000000e+00</td>\n",
       "      <td>-1.000000e+00</td>\n",
       "      <td>1930.000000</td>\n",
       "      <td>4.000000</td>\n",
       "      <td>2010.000000</td>\n",
       "      <td>1.000000</td>\n",
       "      <td>1.000000</td>\n",
       "      <td>1.000000</td>\n",
       "      <td>0.000000</td>\n",
       "      <td>0.000000</td>\n",
       "      <td>1.020110e+10</td>\n",
       "      <td>1.020110e+08</td>\n",
       "      <td>0.000000</td>\n",
       "    </tr>\n",
       "    <tr>\n",
       "      <th>25%</th>\n",
       "      <td>32556.000000</td>\n",
       "      <td>1909.000000</td>\n",
       "      <td>9.100000</td>\n",
       "      <td>5.540000</td>\n",
       "      <td>22.450000</td>\n",
       "      <td>3.580000</td>\n",
       "      <td>1.170313e+10</td>\n",
       "      <td>1.170313e+10</td>\n",
       "      <td>1962.000000</td>\n",
       "      <td>35.000000</td>\n",
       "      <td>2010.000000</td>\n",
       "      <td>4.000000</td>\n",
       "      <td>8.000000</td>\n",
       "      <td>2.000000</td>\n",
       "      <td>7.000000</td>\n",
       "      <td>15.000000</td>\n",
       "      <td>1.170313e+10</td>\n",
       "      <td>1.170313e+08</td>\n",
       "      <td>15822.000000</td>\n",
       "    </tr>\n",
       "    <tr>\n",
       "      <th>50%</th>\n",
       "      <td>65595.000000</td>\n",
       "      <td>4437.000000</td>\n",
       "      <td>11.200000</td>\n",
       "      <td>8.850000</td>\n",
       "      <td>33.720000</td>\n",
       "      <td>4.580000</td>\n",
       "      <td>1.190214e+10</td>\n",
       "      <td>1.180214e+10</td>\n",
       "      <td>1972.000000</td>\n",
       "      <td>42.000000</td>\n",
       "      <td>2011.000000</td>\n",
       "      <td>8.000000</td>\n",
       "      <td>16.000000</td>\n",
       "      <td>4.000000</td>\n",
       "      <td>11.000000</td>\n",
       "      <td>30.000000</td>\n",
       "      <td>1.190214e+10</td>\n",
       "      <td>1.190214e+08</td>\n",
       "      <td>16919.000000</td>\n",
       "    </tr>\n",
       "    <tr>\n",
       "      <th>75%</th>\n",
       "      <td>102557.000000</td>\n",
       "      <td>6077.000000</td>\n",
       "      <td>13.300000</td>\n",
       "      <td>13.710000</td>\n",
       "      <td>50.550000</td>\n",
       "      <td>5.550000</td>\n",
       "      <td>1.210414e+10</td>\n",
       "      <td>1.210414e+10</td>\n",
       "      <td>1979.000000</td>\n",
       "      <td>52.000000</td>\n",
       "      <td>2012.000000</td>\n",
       "      <td>10.000000</td>\n",
       "      <td>23.000000</td>\n",
       "      <td>5.000000</td>\n",
       "      <td>17.000000</td>\n",
       "      <td>44.000000</td>\n",
       "      <td>1.200314e+10</td>\n",
       "      <td>1.200314e+08</td>\n",
       "      <td>18724.000000</td>\n",
       "    </tr>\n",
       "    <tr>\n",
       "      <th>max</th>\n",
       "      <td>152980.000000</td>\n",
       "      <td>9475.000000</td>\n",
       "      <td>93.800000</td>\n",
       "      <td>176.450000</td>\n",
       "      <td>1612.060000</td>\n",
       "      <td>31.880000</td>\n",
       "      <td>1.200000e+11</td>\n",
       "      <td>1.280215e+10</td>\n",
       "      <td>2010.000000</td>\n",
       "      <td>84.000000</td>\n",
       "      <td>2013.000000</td>\n",
       "      <td>12.000000</td>\n",
       "      <td>31.000000</td>\n",
       "      <td>7.000000</td>\n",
       "      <td>23.000000</td>\n",
       "      <td>59.000000</td>\n",
       "      <td>1.280215e+10</td>\n",
       "      <td>1.280215e+08</td>\n",
       "      <td>47197.000000</td>\n",
       "    </tr>\n",
       "  </tbody>\n",
       "</table>\n",
       "</div>"
      ],
      "text/plain": [
       "             RouteId       RiderID      TopSpeed      Distance      Duration  \\\n",
       "count   14313.000000  14313.000000  14313.000000  14313.000000  14313.000000   \n",
       "mean    68507.194508   4275.132118     11.178481     11.514460     42.831100   \n",
       "std     41923.387642   2566.966248      3.779017     10.787518     57.523297   \n",
       "min       338.000000     95.000000      0.000000      0.220000  -4583.170000   \n",
       "25%     32556.000000   1909.000000      9.100000      5.540000     22.450000   \n",
       "50%     65595.000000   4437.000000     11.200000      8.850000     33.720000   \n",
       "75%    102557.000000   6077.000000     13.300000     13.710000     50.550000   \n",
       "max    152980.000000   9475.000000     93.800000    176.450000   1612.060000   \n",
       "\n",
       "            AvSpeed     SA1_start       SA1_end           YOB           Age  \\\n",
       "count  14313.000000  1.431300e+04  1.431300e+04  11134.000000  11134.000000   \n",
       "mean       4.583713  1.191439e+10  1.188042e+10   1971.192923     42.807077   \n",
       "std        1.802794  1.375774e+09  7.028357e+08     11.731699     11.731699   \n",
       "min       -0.020000 -1.000000e+00 -1.000000e+00   1930.000000      4.000000   \n",
       "25%        3.580000  1.170313e+10  1.170313e+10   1962.000000     35.000000   \n",
       "50%        4.580000  1.190214e+10  1.180214e+10   1972.000000     42.000000   \n",
       "75%        5.550000  1.210414e+10  1.210414e+10   1979.000000     52.000000   \n",
       "max       31.880000  1.200000e+11  1.280215e+10   2010.000000     84.000000   \n",
       "\n",
       "          startyear    startmonth     startdate      startday     starthour  \\\n",
       "count  14313.000000  14313.000000  14313.000000  14313.000000  14313.000000   \n",
       "mean    2011.272689      7.089289     15.784881      3.934815     11.928666   \n",
       "std        1.018989      3.450155      8.615184      1.783099      4.865348   \n",
       "min     2010.000000      1.000000      1.000000      1.000000      0.000000   \n",
       "25%     2010.000000      4.000000      8.000000      2.000000      7.000000   \n",
       "50%     2011.000000      8.000000     16.000000      4.000000     11.000000   \n",
       "75%     2012.000000     10.000000     23.000000      5.000000     17.000000   \n",
       "max     2013.000000     12.000000     31.000000      7.000000     23.000000   \n",
       "\n",
       "           startmin      Cell_SA1      Cell_SA2       Cell_ID  \n",
       "count  14313.000000  1.431300e+04  1.431300e+04  14313.000000  \n",
       "mean      29.668833  1.187978e+10  1.187978e+08  18073.520855  \n",
       "std       17.217581  4.878072e+08  4.878072e+06   5656.056532  \n",
       "min        0.000000  1.020110e+10  1.020110e+08      0.000000  \n",
       "25%       15.000000  1.170313e+10  1.170313e+08  15822.000000  \n",
       "50%       30.000000  1.190214e+10  1.190214e+08  16919.000000  \n",
       "75%       44.000000  1.200314e+10  1.200314e+08  18724.000000  \n",
       "max       59.000000  1.280215e+10  1.280215e+08  47197.000000  "
      ]
     },
     "execution_count": 36,
     "metadata": {},
     "output_type": "execute_result"
    }
   ],
   "source": [
    "route_data.describe()"
   ]
  },
  {
   "cell_type": "markdown",
   "metadata": {},
   "source": [
    "The __mean, median and max__ value for distance should be __11.51, 8.85, 176.45__, respectively. <br \\> <br \\>\n",
    "\n",
    "How many numerical attributes are there in the dataset? Try get this information by getting the shape of the dataframe generated above by _describe_ method."
   ]
  },
  {
   "cell_type": "code",
   "execution_count": 6,
   "metadata": {
    "collapsed": false
   },
   "outputs": [
    {
     "data": {
      "text/plain": [
       "(8, 19)"
      ]
     },
     "execution_count": 6,
     "metadata": {},
     "output_type": "execute_result"
    }
   ],
   "source": [
    "route_data.describe()._____"
   ]
  },
  {
   "cell_type": "markdown",
   "metadata": {},
   "source": [
    "How many of them are integer attributes? <br />\n",
    "\n",
    "_Hint_: Apart from describing the dataset, Python also knows how to count unique values! See [value_counts()](https://pandas.pydata.org/pandas-docs/stable/generated/pandas.Series.value_counts.html) method."
   ]
  },
  {
   "cell_type": "code",
   "execution_count": 8,
   "metadata": {
    "collapsed": false
   },
   "outputs": [
    {
     "data": {
      "text/plain": [
       "int64      13\n",
       "object      6\n",
       "float64     6\n",
       "dtype: int64"
      ]
     },
     "execution_count": 8,
     "metadata": {},
     "output_type": "execute_result"
    }
   ],
   "source": [
    "route_data.dtypes._______"
   ]
  },
  {
   "cell_type": "markdown",
   "metadata": {},
   "source": [
    "There are __19 numerical attributes__ in the dataset, where __13__ of them contain integer only, and __6__ of them contain floats.<br \\><br \\>Now let's see if we can findout relationships between attributes! <br \\>\n",
    "__How many records have a Duration larger than 60 mins?__<br \\>\n",
    "Remember to tryout both the __shape__ method and the new __value counting__method!"
   ]
  },
  {
   "cell_type": "code",
   "execution_count": 10,
   "metadata": {
    "collapsed": false
   },
   "outputs": [
    {
     "data": {
      "text/plain": [
       "(2567, 25)"
      ]
     },
     "execution_count": 10,
     "metadata": {},
     "output_type": "execute_result"
    }
   ],
   "source": [
    "route_data[route_data['Duration'] ____].shape"
   ]
  },
  {
   "cell_type": "code",
   "execution_count": 22,
   "metadata": {
    "collapsed": false
   },
   "outputs": [
    {
     "data": {
      "text/plain": [
       "False    11746\n",
       "True      2567\n",
       "Name: Duration, dtype: int64"
      ]
     },
     "execution_count": 22,
     "metadata": {},
     "output_type": "execute_result"
    }
   ],
   "source": [
    "(route_data['Duration'] > 60).value_counts()"
   ]
  },
  {
   "cell_type": "markdown",
   "metadata": {},
   "source": [
    "__2567__ out of 14313 routes have a duration longer than 60 mins! <br \\><br \\>\n",
    "\n",
    "__For all records matches the descrition above, what is the minimum distance of them?__ <br \\> \n",
    "\n",
    "Hint: To get information on a single column, you can __index that specific column__ and perform something similar that you have used in the lecturer. Yes! I'm talking about max function. If you get stucked, try this [link](https://docs.python.org/3/library/functions.html)!"
   ]
  },
  {
   "cell_type": "code",
   "execution_count": 23,
   "metadata": {
    "collapsed": false,
    "scrolled": true
   },
   "outputs": [
    {
     "data": {
      "text/html": [
       "<div>\n",
       "<table border=\"1\" class=\"dataframe\">\n",
       "  <thead>\n",
       "    <tr style=\"text-align: right;\">\n",
       "      <th></th>\n",
       "      <th>RouteId</th>\n",
       "      <th>RiderID</th>\n",
       "      <th>TopSpeed</th>\n",
       "      <th>Distance</th>\n",
       "      <th>Duration</th>\n",
       "      <th>AvSpeed</th>\n",
       "      <th>SA1_start</th>\n",
       "      <th>SA1_end</th>\n",
       "      <th>YOB</th>\n",
       "      <th>Age</th>\n",
       "      <th>startyear</th>\n",
       "      <th>startmonth</th>\n",
       "      <th>startdate</th>\n",
       "      <th>startday</th>\n",
       "      <th>starthour</th>\n",
       "      <th>startmin</th>\n",
       "      <th>Cell_SA1</th>\n",
       "      <th>Cell_SA2</th>\n",
       "      <th>Cell_ID</th>\n",
       "    </tr>\n",
       "  </thead>\n",
       "  <tbody>\n",
       "    <tr>\n",
       "      <th>count</th>\n",
       "      <td>2567.000000</td>\n",
       "      <td>2567.000000</td>\n",
       "      <td>2567.000000</td>\n",
       "      <td>2567.000000</td>\n",
       "      <td>2567.000000</td>\n",
       "      <td>2567.000000</td>\n",
       "      <td>2.567000e+03</td>\n",
       "      <td>2.567000e+03</td>\n",
       "      <td>1978.000000</td>\n",
       "      <td>1978.000000</td>\n",
       "      <td>2567.00000</td>\n",
       "      <td>2567.000000</td>\n",
       "      <td>2567.000000</td>\n",
       "      <td>2567.000000</td>\n",
       "      <td>2567.000000</td>\n",
       "      <td>2567.000000</td>\n",
       "      <td>2.567000e+03</td>\n",
       "      <td>2.567000e+03</td>\n",
       "      <td>2567.000000</td>\n",
       "    </tr>\n",
       "    <tr>\n",
       "      <th>mean</th>\n",
       "      <td>68515.951695</td>\n",
       "      <td>4381.999610</td>\n",
       "      <td>12.684651</td>\n",
       "      <td>25.693744</td>\n",
       "      <td>101.648457</td>\n",
       "      <td>4.427293</td>\n",
       "      <td>1.209263e+10</td>\n",
       "      <td>1.191093e+10</td>\n",
       "      <td>1967.555106</td>\n",
       "      <td>46.444894</td>\n",
       "      <td>2011.25672</td>\n",
       "      <td>7.232178</td>\n",
       "      <td>16.030386</td>\n",
       "      <td>3.887028</td>\n",
       "      <td>10.448773</td>\n",
       "      <td>29.739774</td>\n",
       "      <td>1.200751e+10</td>\n",
       "      <td>1.200751e+08</td>\n",
       "      <td>18179.563303</td>\n",
       "    </tr>\n",
       "    <tr>\n",
       "      <th>std</th>\n",
       "      <td>41516.347663</td>\n",
       "      <td>2614.426555</td>\n",
       "      <td>3.858263</td>\n",
       "      <td>17.257758</td>\n",
       "      <td>71.539383</td>\n",
       "      <td>2.094689</td>\n",
       "      <td>3.039491e+09</td>\n",
       "      <td>1.255301e+09</td>\n",
       "      <td>12.009954</td>\n",
       "      <td>12.009954</td>\n",
       "      <td>0.98781</td>\n",
       "      <td>3.413765</td>\n",
       "      <td>8.745462</td>\n",
       "      <td>2.179158</td>\n",
       "      <td>4.467210</td>\n",
       "      <td>17.225298</td>\n",
       "      <td>5.517579e+08</td>\n",
       "      <td>5.517579e+06</td>\n",
       "      <td>6539.854857</td>\n",
       "    </tr>\n",
       "    <tr>\n",
       "      <th>min</th>\n",
       "      <td>378.000000</td>\n",
       "      <td>102.000000</td>\n",
       "      <td>0.000000</td>\n",
       "      <td>0.220000</td>\n",
       "      <td>60.050000</td>\n",
       "      <td>0.010000</td>\n",
       "      <td>-1.000000e+00</td>\n",
       "      <td>-1.000000e+00</td>\n",
       "      <td>1930.000000</td>\n",
       "      <td>4.000000</td>\n",
       "      <td>2010.00000</td>\n",
       "      <td>1.000000</td>\n",
       "      <td>1.000000</td>\n",
       "      <td>1.000000</td>\n",
       "      <td>1.000000</td>\n",
       "      <td>0.000000</td>\n",
       "      <td>1.020110e+10</td>\n",
       "      <td>1.020110e+08</td>\n",
       "      <td>0.000000</td>\n",
       "    </tr>\n",
       "    <tr>\n",
       "      <th>25%</th>\n",
       "      <td>33682.000000</td>\n",
       "      <td>1922.000000</td>\n",
       "      <td>10.600000</td>\n",
       "      <td>14.220000</td>\n",
       "      <td>68.175000</td>\n",
       "      <td>3.005000</td>\n",
       "      <td>1.170313e+10</td>\n",
       "      <td>1.170313e+10</td>\n",
       "      <td>1960.000000</td>\n",
       "      <td>39.000000</td>\n",
       "      <td>2010.00000</td>\n",
       "      <td>4.000000</td>\n",
       "      <td>8.000000</td>\n",
       "      <td>2.000000</td>\n",
       "      <td>7.000000</td>\n",
       "      <td>15.000000</td>\n",
       "      <td>1.170313e+10</td>\n",
       "      <td>1.170313e+08</td>\n",
       "      <td>15601.000000</td>\n",
       "    </tr>\n",
       "    <tr>\n",
       "      <th>50%</th>\n",
       "      <td>65843.000000</td>\n",
       "      <td>4462.000000</td>\n",
       "      <td>12.800000</td>\n",
       "      <td>22.570000</td>\n",
       "      <td>81.610000</td>\n",
       "      <td>4.530000</td>\n",
       "      <td>1.210114e+10</td>\n",
       "      <td>1.210114e+10</td>\n",
       "      <td>1968.000000</td>\n",
       "      <td>46.000000</td>\n",
       "      <td>2011.00000</td>\n",
       "      <td>8.000000</td>\n",
       "      <td>16.000000</td>\n",
       "      <td>4.000000</td>\n",
       "      <td>9.000000</td>\n",
       "      <td>30.000000</td>\n",
       "      <td>1.200214e+10</td>\n",
       "      <td>1.200214e+08</td>\n",
       "      <td>17741.000000</td>\n",
       "    </tr>\n",
       "    <tr>\n",
       "      <th>75%</th>\n",
       "      <td>103943.500000</td>\n",
       "      <td>6448.000000</td>\n",
       "      <td>15.000000</td>\n",
       "      <td>31.780000</td>\n",
       "      <td>111.955000</td>\n",
       "      <td>5.815000</td>\n",
       "      <td>1.240315e+10</td>\n",
       "      <td>1.240315e+10</td>\n",
       "      <td>1975.000000</td>\n",
       "      <td>54.000000</td>\n",
       "      <td>2012.00000</td>\n",
       "      <td>10.000000</td>\n",
       "      <td>24.000000</td>\n",
       "      <td>6.000000</td>\n",
       "      <td>15.000000</td>\n",
       "      <td>44.000000</td>\n",
       "      <td>1.240115e+10</td>\n",
       "      <td>1.240115e+08</td>\n",
       "      <td>21393.000000</td>\n",
       "    </tr>\n",
       "    <tr>\n",
       "      <th>max</th>\n",
       "      <td>147004.000000</td>\n",
       "      <td>9313.000000</td>\n",
       "      <td>39.300000</td>\n",
       "      <td>176.450000</td>\n",
       "      <td>1612.060000</td>\n",
       "      <td>23.050000</td>\n",
       "      <td>1.200000e+11</td>\n",
       "      <td>1.280215e+10</td>\n",
       "      <td>2010.000000</td>\n",
       "      <td>84.000000</td>\n",
       "      <td>2013.00000</td>\n",
       "      <td>12.000000</td>\n",
       "      <td>31.000000</td>\n",
       "      <td>7.000000</td>\n",
       "      <td>23.000000</td>\n",
       "      <td>59.000000</td>\n",
       "      <td>1.280215e+10</td>\n",
       "      <td>1.280215e+08</td>\n",
       "      <td>47197.000000</td>\n",
       "    </tr>\n",
       "  </tbody>\n",
       "</table>\n",
       "</div>"
      ],
      "text/plain": [
       "             RouteId      RiderID     TopSpeed     Distance     Duration  \\\n",
       "count    2567.000000  2567.000000  2567.000000  2567.000000  2567.000000   \n",
       "mean    68515.951695  4381.999610    12.684651    25.693744   101.648457   \n",
       "std     41516.347663  2614.426555     3.858263    17.257758    71.539383   \n",
       "min       378.000000   102.000000     0.000000     0.220000    60.050000   \n",
       "25%     33682.000000  1922.000000    10.600000    14.220000    68.175000   \n",
       "50%     65843.000000  4462.000000    12.800000    22.570000    81.610000   \n",
       "75%    103943.500000  6448.000000    15.000000    31.780000   111.955000   \n",
       "max    147004.000000  9313.000000    39.300000   176.450000  1612.060000   \n",
       "\n",
       "           AvSpeed     SA1_start       SA1_end          YOB          Age  \\\n",
       "count  2567.000000  2.567000e+03  2.567000e+03  1978.000000  1978.000000   \n",
       "mean      4.427293  1.209263e+10  1.191093e+10  1967.555106    46.444894   \n",
       "std       2.094689  3.039491e+09  1.255301e+09    12.009954    12.009954   \n",
       "min       0.010000 -1.000000e+00 -1.000000e+00  1930.000000     4.000000   \n",
       "25%       3.005000  1.170313e+10  1.170313e+10  1960.000000    39.000000   \n",
       "50%       4.530000  1.210114e+10  1.210114e+10  1968.000000    46.000000   \n",
       "75%       5.815000  1.240315e+10  1.240315e+10  1975.000000    54.000000   \n",
       "max      23.050000  1.200000e+11  1.280215e+10  2010.000000    84.000000   \n",
       "\n",
       "        startyear   startmonth    startdate     startday    starthour  \\\n",
       "count  2567.00000  2567.000000  2567.000000  2567.000000  2567.000000   \n",
       "mean   2011.25672     7.232178    16.030386     3.887028    10.448773   \n",
       "std       0.98781     3.413765     8.745462     2.179158     4.467210   \n",
       "min    2010.00000     1.000000     1.000000     1.000000     1.000000   \n",
       "25%    2010.00000     4.000000     8.000000     2.000000     7.000000   \n",
       "50%    2011.00000     8.000000    16.000000     4.000000     9.000000   \n",
       "75%    2012.00000    10.000000    24.000000     6.000000    15.000000   \n",
       "max    2013.00000    12.000000    31.000000     7.000000    23.000000   \n",
       "\n",
       "          startmin      Cell_SA1      Cell_SA2       Cell_ID  \n",
       "count  2567.000000  2.567000e+03  2.567000e+03   2567.000000  \n",
       "mean     29.739774  1.200751e+10  1.200751e+08  18179.563303  \n",
       "std      17.225298  5.517579e+08  5.517579e+06   6539.854857  \n",
       "min       0.000000  1.020110e+10  1.020110e+08      0.000000  \n",
       "25%      15.000000  1.170313e+10  1.170313e+08  15601.000000  \n",
       "50%      30.000000  1.200214e+10  1.200214e+08  17741.000000  \n",
       "75%      44.000000  1.240115e+10  1.240115e+08  21393.000000  \n",
       "max      59.000000  1.280215e+10  1.280215e+08  47197.000000  "
      ]
     },
     "execution_count": 23,
     "metadata": {},
     "output_type": "execute_result"
    }
   ],
   "source": [
    "route_data[route_data['Duration'] > 60].describe()"
   ]
  },
  {
   "cell_type": "code",
   "execution_count": 25,
   "metadata": {
    "collapsed": false
   },
   "outputs": [
    {
     "name": "stdout",
     "output_type": "stream",
     "text": [
      "Minimum distance for records which have a duration larger than 60 mins is 0.22\n"
     ]
    }
   ],
   "source": [
    "min_distance_long_duration = ___(route_data[route_data['Duration'] > 60]['Distance'])\n",
    "print('Minimum distance for records which have a duration larger than 60 mins is', min_distance_long_duration)"
   ]
  },
  {
   "cell_type": "markdown",
   "metadata": {},
   "source": [
    "The minimum distance is __0.22km__ for a trip lasts longer than 60 mins. Emm...\n",
    "\n",
    "__How many recreational trips have a duration longer than 60 minutes?__ <br \\> \n",
    "To answer this question, we can first get a subset of the dataset meets the description. <br \\>\n",
    "Then, we can focus on the subset to find out the answer of this question. <br \\>\n",
    "_Hint_:Attribute _RidePurpos_ denotes the purpose of the trip, and the key for recreational trips is _Recreation_.\n"
   ]
  },
  {
   "cell_type": "code",
   "execution_count": 30,
   "metadata": {
    "collapsed": false
   },
   "outputs": [
    {
     "data": {
      "text/plain": [
       "(1412, 25)"
      ]
     },
     "execution_count": 30,
     "metadata": {},
     "output_type": "execute_result"
    }
   ],
   "source": [
    "long_duration_routes = route_data[route_data['Duration'] > 60]\n",
    "\n",
    "long_duration_routes[long_duration_routes['_____'] == ________].shape"
   ]
  },
  {
   "cell_type": "markdown",
   "metadata": {},
   "source": [
    "There are __1412__ recreational trips with a duration longer than 60 minutes!"
   ]
  },
  {
   "cell_type": "markdown",
   "metadata": {},
   "source": [
    "__Exercise Question:__\n",
    "1. What is the top speed for recreational trips with a female rider?\n",
    "2. What is the most popular destination for recreational trips? \n",
    "3. Fasted Top Speed is generated by who?\n",
    "4. Which rider generated most trips?"
   ]
  },
  {
   "cell_type": "code",
   "execution_count": null,
   "metadata": {
    "collapsed": true
   },
   "outputs": [],
   "source": []
  }
 ],
 "metadata": {
  "kernelspec": {
   "display_name": "Python 3",
   "language": "python",
   "name": "python3"
  },
  "language_info": {
   "codemirror_mode": {
    "name": "ipython",
    "version": 3
   },
   "file_extension": ".py",
   "mimetype": "text/x-python",
   "name": "python",
   "nbconvert_exporter": "python",
   "pygments_lexer": "ipython3",
   "version": "3.6.0"
  }
 },
 "nbformat": 4,
 "nbformat_minor": 2
}

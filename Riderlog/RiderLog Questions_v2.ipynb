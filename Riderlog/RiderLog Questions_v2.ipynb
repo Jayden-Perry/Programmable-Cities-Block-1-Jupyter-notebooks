{
 "cells": [
  {
   "cell_type": "markdown",
   "metadata": {},
   "source": [
    "In this notebook, we are going to use RiderLog dataset, which contains all bicycle trips collected by RiderLog between 2010 and 2013 in Greater Sydney region, thanks to [CityData](https://citydata.be.unsw.edu.au/layers/geonode%3AGreaterSydney_NSW_RiderLog_2010to2013).<br \\><br \\>\n",
    "\n",
    "The original data is in a point format, where bicycle trips are divided into points which are centroids of cells in a 500m * 500m grid. In order to better explore the relationship between attributes of routes, we kept only one records for each RouteId. While sacrificing some of the spatial information, the dataset is now more easy for you to play with!<br \\><br \\>\n",
    "\n",
    "*TODO: include how to transform the data from waypoints to routes*\n",
    "\n",
    "Let's get started!<br \\>\n",
    "\n",
    "**First, lets import pandas library and the RiderLog data. **<br \\>\n",
    "\n",
    "**point_data** contains the original dataset, and the duplicates have been droped for you and stored in the variable **route_data**."
   ]
  },
  {
   "cell_type": "code",
   "execution_count": null,
   "metadata": {
    "collapsed": true
   },
   "outputs": [],
   "source": [
    "import ??? as pd\n",
    "\n",
    "point_data = pd.read_csv(\"GreaterSydney_NSW_RiderLog_2010to2013.csv\")\n",
    "\n",
    "route_data = point_data.drop_duplicates(subset='RouteId')"
   ]
  },
  {
   "cell_type": "markdown",
   "metadata": {},
   "source": [
    "**Appitizer - explore the dataset with *describe* method:** <br \\>\n",
    "How many routes are there in the dataset?"
   ]
  },
  {
   "cell_type": "code",
   "execution_count": null,
   "metadata": {
    "collapsed": true
   },
   "outputs": [],
   "source": [
    "route_data.???"
   ]
  },
  {
   "cell_type": "markdown",
   "metadata": {},
   "source": [
    "There should be 14313 routes with 25 attributes attached to each one of them. <br \\> <br \\>\n",
    "What is the mean, median and max value for distance? <br \\>\n",
    "Have you observed anything abnormal in the dataset? (*Hint: check the minimum values*)"
   ]
  },
  {
   "cell_type": "code",
   "execution_count": null,
   "metadata": {
    "collapsed": true
   },
   "outputs": [],
   "source": [
    "route_data.describe()"
   ]
  },
  {
   "cell_type": "markdown",
   "metadata": {},
   "source": [
    "The **mean, median and max** value for distance should be **11.51, 8.85, 176.45**, respectively. <br \\> <br \\>\n",
    "\n",
    "How many numerical attributes are there in the dataset? Try get this information by getting the shape of the dataframe generated above by *describe* method."
   ]
  },
  {
   "cell_type": "code",
   "execution_count": null,
   "metadata": {
    "collapsed": true
   },
   "outputs": [],
   "source": [
    "route_data.describe().???"
   ]
  },
  {
   "cell_type": "markdown",
   "metadata": {},
   "source": [
    "How many of them are integer attributes? <br />\n",
    "\n",
    "*Hint*: Apart from describing the dataset, Python also knows how to count unique values! See [value_counts()](https://pandas.pydata.org/pandas-docs/stable/generated/pandas.Series.value_counts.html) method."
   ]
  },
  {
   "cell_type": "code",
   "execution_count": null,
   "metadata": {
    "collapsed": true
   },
   "outputs": [],
   "source": [
    "route_data.dtypes.???"
   ]
  },
  {
   "cell_type": "markdown",
   "metadata": {},
   "source": [
    "There are **19 numerical attributes** in the dataset, where **13** of them contain integer only, and **6** of them contain floats.<br \\><br \\>Now let's see if we can findout relationships between attributes! <br \\>\n",
    "**How many records have a Duration larger than 60 mins?**<br \\>\n",
    "Remember to tryout both the **shape** method and the new **value counting**method!"
   ]
  },
  {
   "cell_type": "code",
   "execution_count": null,
   "metadata": {
    "collapsed": true
   },
   "outputs": [],
   "source": [
    "route_data[route_data['Duration'] ???].shape"
   ]
  },
  {
   "cell_type": "code",
   "execution_count": null,
   "metadata": {
    "collapsed": true
   },
   "outputs": [],
   "source": [
    "(route_data['Duration'] > 60).value_counts()"
   ]
  },
  {
   "cell_type": "markdown",
   "metadata": {},
   "source": [
    "**2567** out of 14313 routes have a duration longer than 60 mins! <br \\><br \\>\n",
    "\n",
    "**For all records matches the descrition above, what is the minimum distance of them?** <br \\> \n",
    "\n",
    "Hint: To get information on a single column, you can **index that specific column** and perform something similar that you have used in the lecturer. Yes! I'm talking about max function. If you get stucked, try this [link](https://docs.python.org/3/library/functions.html)!"
   ]
  },
  {
   "cell_type": "code",
   "execution_count": null,
   "metadata": {
    "collapsed": true,
    "scrolled": true
   },
   "outputs": [],
   "source": [
    "route_data[route_data['Duration'] > 60].describe()"
   ]
  },
  {
   "cell_type": "code",
   "execution_count": null,
   "metadata": {
    "collapsed": true
   },
   "outputs": [],
   "source": [
    "min_distance_long_duration = ???(route_data[route_data['Duration'] > 60]['Distance'])\n",
    "print('Minimum distance for records which have a duration larger than 60 mins is', min_distance_long_duration)"
   ]
  },
  {
   "cell_type": "markdown",
   "metadata": {},
   "source": [
    "The minimum distance is **0.22km** for a trip lasts longer than 60 mins. Emm...\n",
    "\n",
    "**How many recreational trips have a duration longer than 60 minutes?** <br \\> \n",
    "To answer this question, we can first get a subset of the dataset meets the description. <br \\>\n",
    "Then, we can focus on the subset to find out the answer of this question. <br \\>\n",
    "*Hint*:Attribute *RidePurpos* denotes the purpose of the trip, and the key for recreational trips is *Recreation*.\n"
   ]
  },
  {
   "cell_type": "code",
   "execution_count": null,
   "metadata": {
    "collapsed": true
   },
   "outputs": [],
   "source": [
    "long_duration_routes = route_data[route_data['Duration'] > 60]\n",
    "\n",
    "long_duration_routes[long_duration_routes['???'] == ???].shape"
   ]
  },
  {
   "cell_type": "markdown",
   "metadata": {},
   "source": [
    "There are **1412** recreational trips with a duration longer than 60 minutes!"
   ]
  },
  {
   "cell_type": "markdown",
   "metadata": {},
   "source": [
    "**Exercise Question:**\n",
    "1. What is the top speed for recreational trips with a female rider?\n",
    "2. What is the most popular destination for recreational trips? \n",
    "3. Fasted Top Speed is generated by who?\n",
    "4. Which rider generated most trips?"
   ]
  },
  {
   "cell_type": "code",
   "execution_count": null,
   "metadata": {
    "collapsed": true
   },
   "outputs": [],
   "source": []
  }
 ],
 "metadata": {
  "kernelspec": {
   "display_name": "Python 3",
   "language": "python",
   "name": "python3"
  },
  "language_info": {
   "codemirror_mode": {
    "name": "ipython",
    "version": 3
   },
   "file_extension": ".py",
   "mimetype": "text/x-python",
   "name": "python",
   "nbconvert_exporter": "python",
   "pygments_lexer": "ipython3",
   "version": "3.6.1"
  }
 },
 "nbformat": 4,
 "nbformat_minor": 2
}

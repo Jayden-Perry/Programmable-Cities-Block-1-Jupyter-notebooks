{
 "cells": [
  {
   "cell_type": "markdown",
   "metadata": {},
   "source": [
    "<https://citydata.be.unsw.edu.au/geoserver/wfs?srsName=EPSG%3A4326&typename=geonode%3AInsideAirbnb_44_2015_17&outputFormat=csv&version=1.0.0&service=WFS&request=GetFeature&maxFeatures=10>"
   ]
  },
  {
   "cell_type": "markdown",
   "metadata": {},
   "source": [
    "Add a filter. WFS filters are explained with examples by [Land Information New Zealand here](https://www.linz.govt.nz/data/linz-data-service/guides-and-documentation/wfs-filtering-by-attribute-or-feature).\n",
    "\n",
    "You can run a DescribeFeatureType query on the layer. This query will also give you the name of the geometry column which you will need to know if you want to filter the data spatially."
   ]
  },
  {
   "cell_type": "markdown",
   "metadata": {},
   "source": [
    "<https://citydata.be.unsw.edu.au/geoserver/wfs?typename=geonode%3AInsideAirbnb_44_2015_17&version=1.0.0&service=WFS&request=DescribeFeatureType>"
   ]
  },
  {
   "cell_type": "markdown",
   "metadata": {},
   "source": [
    "Here's the list of properties (sequence of elements) returned:\n",
    "\n",
    "```\n",
    "<xsd:element maxOccurs=\"1\" minOccurs=\"0\" name=\"the_geom\" nillable=\"true\" type=\"gml:PointPropertyType\"/>\n",
    "<xsd:element maxOccurs=\"1\" minOccurs=\"0\" name=\"City\" nillable=\"true\" type=\"xsd:string\"/>\n",
    "<xsd:element maxOccurs=\"1\" minOccurs=\"0\" name=\"ScrapeDate\" nillable=\"true\" type=\"xsd:dateTime\"/>\n",
    "<xsd:element maxOccurs=\"1\" minOccurs=\"0\" name=\"PropertyID\" nillable=\"true\" type=\"xsd:long\"/>\n",
    "<xsd:element maxOccurs=\"1\" minOccurs=\"0\" name=\"HostID\" nillable=\"true\" type=\"xsd:long\"/>\n",
    "<xsd:element maxOccurs=\"1\" minOccurs=\"0\" name=\"NeighGroup\" nillable=\"true\" type=\"xsd:string\"/>\n",
    "<xsd:element maxOccurs=\"1\" minOccurs=\"0\" name=\"Neighb\" nillable=\"true\" type=\"xsd:string\"/>\n",
    "<xsd:element maxOccurs=\"1\" minOccurs=\"0\" name=\"Latitude\" nillable=\"true\" type=\"xsd:double\"/>\n",
    "<xsd:element maxOccurs=\"1\" minOccurs=\"0\" name=\"Longitude\" nillable=\"true\" type=\"xsd:double\"/>\n",
    "<xsd:element maxOccurs=\"1\" minOccurs=\"0\" name=\"ListType\" nillable=\"true\" type=\"xsd:string\"/>\n",
    "<xsd:element maxOccurs=\"1\" minOccurs=\"0\" name=\"Price\" nillable=\"true\" type=\"xsd:long\"/>\n",
    "<xsd:element maxOccurs=\"1\" minOccurs=\"0\" name=\"MinNights\" nillable=\"true\" type=\"xsd:long\"/>\n",
    "<xsd:element maxOccurs=\"1\" minOccurs=\"0\" name=\"NumReviews\" nillable=\"true\" type=\"xsd:long\"/>\n",
    "<xsd:element maxOccurs=\"1\" minOccurs=\"0\" name=\"LastReview\" nillable=\"true\" type=\"xsd:dateTime\"/>\n",
    "<xsd:element maxOccurs=\"1\" minOccurs=\"0\" name=\"RePerMonth\" nillable=\"true\" type=\"xsd:double\"/>\n",
    "<xsd:element maxOccurs=\"1\" minOccurs=\"0\" name=\"ListingCnt\" nillable=\"true\" type=\"xsd:long\"/>\n",
    "<xsd:element maxOccurs=\"1\" minOccurs=\"0\" name=\"AvlNext365\" nillable=\"true\" type=\"xsd:long\"/>\n",
    "```"
   ]
  },
  {
   "cell_type": "markdown",
   "metadata": {},
   "source": [
    "We can refine our request to ask for just the City, PropertyID, HostID, Latitude, Longitude and Price.\n",
    "\n",
    "To do this, add a PropertyNames= parameter to the request. Let's also change the output format to JSON so we can see the response in another browser tab, rather than having the browser automatically download the CSV to a file."
   ]
  },
  {
   "cell_type": "markdown",
   "metadata": {},
   "source": [
    "<https://citydata.be.unsw.edu.au/geoserver/wfs?typename=geonode%3AInsideAirbnb_44_2015_17&outputFormat=json&version=1.0.0&service=WFS&request=GetFeature&PropertyName=City,PropertyID,HostID,Latitude,Longitude,Price&maxFeatures=10>"
   ]
  },
  {
   "cell_type": "markdown",
   "metadata": {},
   "source": [
    "We need to remove the maxFeatures parameter so we are querying the full dataset, but if we do so, how much data will we get?\n",
    "\n",
    "We can check the number of results by adding the parameter `resultType=hits` to our request (without it the default is `resultType=results`).\n",
    "\n",
    "We also need to change the WFS version number from 1.0.0 to 1.1.0 because the resultType parameter was only introduced at this version of the [WFS spec](http://www.opengeospatial.org/standards/wfs)."
   ]
  },
  {
   "cell_type": "markdown",
   "metadata": {},
   "source": [
    "<https://citydata.be.unsw.edu.au/geoserver/wfs?typename=geonode%3AInsideAirbnb_44_2015_17&version=1.1.0&service=WFS&request=GetFeature&resultType=hits>"
   ]
  },
  {
   "cell_type": "markdown",
   "metadata": {},
   "source": [
    "That's over a million records. Let's add a filter to look at just one city for now.\n",
    "\n",
    "The WFS `filter` parameter is specified in XML, which is a bit tricky to write by hand, especially in a one-line URL.\n",
    "\n",
    "Instead we'll use the non-standard [`cql_filter`](http://docs.geoserver.org/stable/en/user/tutorials/cql/cql_tutorial.html) parameter supported by Geoserver in which the filter is specified as a set of simple SQL-like constraints.\n",
    "\n",
    "Add the parameter `cql_filter=City=\"Sydney\"`, or choose another city."
   ]
  },
  {
   "cell_type": "markdown",
   "metadata": {},
   "source": [
    "<https://citydata.be.unsw.edu.au/geoserver/wfs?typename=geonode%3AInsideAirbnb_44_2015_17&version=1.1.0&service=WFS&request=GetFeature&cql_filter=City='Sydney'&resultType=hits>"
   ]
  },
  {
   "cell_type": "markdown",
   "metadata": {},
   "source": [
    "That returned a more reasonable number of results.\n",
    "\n",
    "So now let's put together our request, still with maxFeatures for now."
   ]
  },
  {
   "cell_type": "markdown",
   "metadata": {},
   "source": [
    "<https://citydata.be.unsw.edu.au/geoserver/wfs?typename=geonode%3AInsideAirbnb_44_2015_17&outputFormat=json&version=1.0.0&service=WFS&request=GetFeature&PropertyName=City,PropertyID,HostID,Latitude,Longitude,Price&cql_filter=City='Sydney'&maxFeatures=10>"
   ]
  },
  {
   "cell_type": "markdown",
   "metadata": {},
   "source": [
    "Looks good! Now we can drop the maxFeatures and set the output format to CSV. That should download a CSV table of just the attributes we're interested in, for a single city."
   ]
  },
  {
   "cell_type": "markdown",
   "metadata": {},
   "source": [
    "<https://citydata.be.unsw.edu.au/geoserver/wfs?typename=geonode%3AInsideAirbnb_44_2015_17&outputFormat=csv&version=1.0.0&service=WFS&request=GetFeature&PropertyName=City,PropertyID,HostID,Latitude,Longitude,Price&cql_filter=City='Sydney'>"
   ]
  },
  {
   "cell_type": "markdown",
   "metadata": {},
   "source": [
    "Now continue from [Reading a slice of the whole dataset](3. Plotting your data.ipynb#filtered-whole-dataset) in the *Plot your data* notebook."
   ]
  }
 ],
 "metadata": {
  "kernelspec": {
   "display_name": "Python 3",
   "language": "python",
   "name": "python3"
  },
  "language_info": {
   "codemirror_mode": {
    "name": "ipython",
    "version": 3
   },
   "file_extension": ".py",
   "mimetype": "text/x-python",
   "name": "python",
   "nbconvert_exporter": "python",
   "pygments_lexer": "ipython3",
   "version": "3.6.1"
  }
 },
 "nbformat": 4,
 "nbformat_minor": 2
}

{
 "cells": [
  {
   "cell_type": "markdown",
   "metadata": {},
   "source": [
    "So now we have a table of data. Let's slice it another way: plot one variable against another.\n",
    "\n",
    "First let's do hostIDs by potential nightly income, i.e. the sum of the nightly rates for all properties hosted by that person. On this dataset we have hostID but no name."
   ]
  },
  {
   "cell_type": "code",
   "execution_count": null,
   "metadata": {},
   "outputs": [],
   "source": [
    "import pandas\n",
    "wfs_query = 'https://citydata.be.unsw.edu.au/geoserver/wfs?srsName=EPSG%3A4326&typename=geonode%3AInsideAirbnb_44_2015_17&outputFormat=csv&version=1.0.0&service=WFS&request=GetFeature'\n",
    "maxFeatures_param = '&maxFeatures=10'\n",
    "PropertyName_param = '&PropertyName=City,ScrapeDate,PropertyID,HostID,Latitude,Longitude,Price'\n",
    "cql_filter_param = \"&cql_filter=City='Sydney'+AND+ScrapeDate='2017-04-03T00:00:00'\"\n",
    "\n",
    "url = wfs_query + maxFeatures_param + PropertyName_param + cql_filter_param\n",
    "listings = pandas.read_csv(url)\n",
    "\n",
    "listings\n",
    "\n",
    "# import plotly.plotly as py\n",
    "# import plotly.graph_objs as go\n",
    "# import plotly.offline as po\n",
    "\n",
    "# trace1 = go.Scatter(x=[1,2,3], y=[4,5,6], marker={'color': 'red', 'symbol': 104, 'size': \"10\"}, \n",
    "#                     mode=\"markers+lines\",  text=[\"one\",\"two\",\"three\"], name='1st Trace')\n",
    "                                               \n",
    "# data=go.Data([trace1])\n",
    "# layout=go.Layout(title=\"First Plot\", xaxis={'title':'x1'}, yaxis={'title':'x2'})\n",
    "# figure=go.Figure(data=data,layout=layout)\n",
    "# po.iplot(figure, filename='pyguide_1')"
   ]
  },
  {
   "cell_type": "code",
   "execution_count": null,
   "metadata": {},
   "outputs": [],
   "source": [
    "from plotly import __version__\n",
    "from plotly.offline import download_plotlyjs, init_notebook_mode, plot, iplot\n",
    "\n",
    "print (__version__) # requires version >= 1.9.0"
   ]
  },
  {
   "cell_type": "code",
   "execution_count": null,
   "metadata": {},
   "outputs": [],
   "source": [
    "import plotly as py\n",
    "import plotly.offline as po\n",
    "# import download_plotlyjs, init_notebook_mode, plot, iplot\n",
    "\n",
    "from plotly.graph_objs import Scatter, Layout\n",
    "\n",
    "po.plot({\n",
    "    \"data\": [Scatter(x=[1, 2, 3, 4], y=[4, 3, 2, 1])],\n",
    "    \"layout\": Layout(title=\"hello world\")\n",
    "})"
   ]
  },
  {
   "cell_type": "code",
   "execution_count": null,
   "metadata": {
    "collapsed": true
   },
   "outputs": [],
   "source": [
    "help(po.plot)"
   ]
  },
  {
   "cell_type": "code",
   "execution_count": null,
   "metadata": {},
   "outputs": [],
   "source": [
    "import plotly\n",
    "import plotly.offline as po\n",
    "from plotly.graph_objs import Scatter, Layout\n",
    "\n",
    "po.init_notebook_mode(connected=True)\n",
    "\n",
    "po.iplot({\n",
    "    \"data\": [Scatter(x=[1, 2, 3, 4], y=[1, 2, 3, 1])],\n",
    "    \"layout\": Layout(title=\"A\")\n",
    "})"
   ]
  },
  {
   "cell_type": "code",
   "execution_count": null,
   "metadata": {},
   "outputs": [],
   "source": [
    "help(po.iplot)"
   ]
  },
  {
   "cell_type": "code",
   "execution_count": null,
   "metadata": {
    "scrolled": true
   },
   "outputs": [],
   "source": [
    "    from plotly.offline import init_notebook_mode, iplot\n",
    "    init_notebook_mode()\n",
    "    iplot([{'x': [1, 2, 3], 'y': [5, 2, 7]}])"
   ]
  },
  {
   "cell_type": "markdown",
   "metadata": {},
   "source": [
    "Now let's plot our own data! :) "
   ]
  },
  {
   "cell_type": "code",
   "execution_count": null,
   "metadata": {
    "scrolled": true
   },
   "outputs": [],
   "source": [
    "import pandas\n",
    "from plotly.offline import init_notebook_mode, iplot\n",
    "import plotly.figure_factory as ff\n",
    "\n",
    "data = pandas.read_csv('https://citydata.be.unsw.edu.au/geoserver/wfs?srsName=EPSG%3A4326&typename=geonode%3AInsideAirbnb_44_2015_17&outputFormat=csv&version=1.0.0&service=WFS&request=GetFeature&maxFeatures=10')\n",
    "\n",
    "\n",
    "fig = ff.create_table(listings)\n",
    "\n",
    "init_notebook_mode()\n",
    "iplot(fig)"
   ]
  },
  {
   "cell_type": "markdown",
   "metadata": {},
   "source": [
    "So the default format for iplot is a table. Fair enough. Let's make our first bar chart. HostID by potential nightly income."
   ]
  },
  {
   "cell_type": "markdown",
   "metadata": {},
   "source": [
    "Try a map now."
   ]
  },
  {
   "cell_type": "code",
   "execution_count": null,
   "metadata": {
    "scrolled": true
   },
   "outputs": [],
   "source": [
    "# import pandas\n",
    "# from plotly.offline import init_notebook_mode, iplot\n",
    "# import plotly.figure_factory as ff\n",
    "# import plotly.graph_objs as go\n",
    "# wfs_server = 'https://citydata.be.unsw.edu.au/geoserver/wfs'\n",
    "# wfs_parms = 'srsName=EPSG%3A4326&typename=geonode%3AInsideAirbnb_44_2015_17&outputFormat=csv&version=1.0.0&service=WFS&request=GetFeature&'\n",
    "\n",
    "# city = 'Sydney'\n",
    "# cql_filter.......\n",
    "# max_features = 1000\n",
    "# max_features_parm = 'maxFeatures=' + str(max_features)\n",
    "# url = wfs_server + '?' + wfs_parms + \"&\" + max_features_parm\n",
    "# url\n",
    "# data = pandas.read_csv(url)\n",
    "\n",
    "trace = go.Scatter(\n",
    "                    x=listings['Longitude'], y=listings['Latitude'], # Data\n",
    "                    mode='markers', name='map' # Additional options\n",
    "                   )\n",
    "layout = go.Layout(title='Simple Map of Sydney Airbnb Listings 2017',\n",
    "                   plot_bgcolor='rgb(230, 230,230)')\n",
    "\n",
    "fig = go.Figure(data=[trace], layout=layout)\n",
    "\n",
    "# Plot data in the notebook\n",
    "\n",
    "\n",
    "# fig = ff.create_table(data.head ())\n",
    "\n",
    "init_notebook_mode()\n",
    "iplot(fig)\n"
   ]
  },
  {
   "cell_type": "code",
   "execution_count": null,
   "metadata": {},
   "outputs": [],
   "source": [
    "import pandas\n",
    "from plotly.offline import init_notebook_mode, iplot\n",
    "import plotly.figure_factory as ff\n",
    "import plotly.graph_objs as go\n",
    "wfs_query = 'https://citydata.be.unsw.edu.au/geoserver/wfs?srsName=EPSG%3A4326&typename=geonode%3AInsideAirbnb_44_2015_17&outputFormat=csv&version=1.0.0&service=WFS&request=GetFeature'\n",
    "maxFeatures_param = '&maxFeatures=100'\n",
    "PropertyName_param = '&PropertyName=PropertyID,HostID,Latitude,Longitude,Price'\n",
    "cql_filter_param = \"&cql_filter=City='Sydney'+AND+ScrapeDate='2017-04-03T00:00:00'\"\n",
    "\n",
    "url = wfs_query + PropertyName_param + cql_filter_param # + maxFeatures_param\n",
    "listings = pandas.read_csv(url)\n",
    "\n",
    "trace = go.Scatter(\n",
    "                    x=listings['Longitude'], y=listings['Price'],\n",
    "                    mode='markers', name='Price/Longitude' # Additional options\n",
    "                   )\n",
    "\n",
    "layout = go.Layout(title='Sydney Airbnb Price from West to East, 2017',\n",
    "                   plot_bgcolor='rgb(230, 230,230)')\n",
    "\n",
    "fig = go.Figure(data=[trace], layout=layout)\n",
    "\n",
    "init_notebook_mode() # Plot data in the notebook\n",
    "\n",
    "iplot(fig)"
   ]
  },
  {
   "cell_type": "markdown",
   "metadata": {},
   "source": [
    "Now we want to query the whole dataset, not just  maxFeatures sample. But we don't actually need the whole dataset. We can ask for just the properties we want. And it's important that we be efficient because the URL request is the bottleneck for our program, it's the part that is slowing the whole thing down. Let's have a look at the architecture to be sure."
   ]
  },
  {
   "cell_type": "markdown",
   "metadata": {},
   "source": [
    "Insert Architecture (2) slides"
   ]
  },
  {
   "cell_type": "markdown",
   "metadata": {},
   "source": [
    "First we need to learn about [Filtering and slicing a WFS query](Filtering and slicing a WFS query.ipynb).\n",
    "\n",
    "Continue below after you have completed that notebook."
   ]
  },
  {
   "cell_type": "markdown",
   "metadata": {},
   "source": [
    "<a id=\"filtered-whole-dataset\"></a>\n",
    "## Reading a slice of the whole dataset\n",
    "If you haven't done [Filtering and slicing a WFS query](Filtering and slicing a WFS query.ipynb) please do that now.\n",
    "\n",
    "Now we'll add cql_filter and propertyname parameters to our URL. First just print the URL so we can click it and test it."
   ]
  },
  {
   "cell_type": "code",
   "execution_count": null,
   "metadata": {
    "scrolled": true
   },
   "outputs": [],
   "source": [
    "import pandas\n",
    "from plotly.offline import init_notebook_mode, iplot\n",
    "import plotly.figure_factory as ff\n",
    "import plotly.graph_objs as go\n",
    "wfs_server = 'https://citydata.be.unsw.edu.au/geoserver/wfs'\n",
    "wfs_parms = 'srsName=EPSG%3A4326&typename=geonode%3AInsideAirbnb_44_2015_17&outputFormat=csv&version=1.0.0&service=WFS&request=GetFeature'\n",
    "\n",
    "city = 'Sydney'\n",
    "cql_filter_parm = 'cql_filter=City=\\'' + city + '\\''\n",
    "\n",
    "properties = 'City,PropertyID,HostID,Latitude,Longitude,Price'\n",
    "propname_parm = 'PropertyName=' + properties\n",
    "\n",
    "max_features = 1000\n",
    "max_features_parm = 'maxFeatures=' + str(max_features)\n",
    "\n",
    "url = wfs_server + '?' + wfs_parms + \"&\" + cql_filter_parm + \"&\" + propname_parm + \"&\" + max_features_parm\n",
    "\n",
    "print (url)\n",
    "\n",
    "# data = pandas.read_csv(url)\n",
    "\n",
    "# trace1 = go.Scatter(\n",
    "#                     x=data['Longitude'], y=data['Latitude'], # Data\n",
    "#                     mode='markers', name='logx' # Additional options\n",
    "#                    )\n",
    "# layout = go.Layout(title='Simple map from csv data',\n",
    "#                    plot_bgcolor='rgb(230, 230,230)')\n",
    "\n",
    "# fig = go.Figure(data=[trace1], layout=layout)\n",
    "\n",
    "# # Plot data in the notebook\n",
    "\n",
    "\n",
    "# # fig = ff.create_table(data.head ())\n",
    "\n",
    "# init_notebook_mode()\n",
    "# iplot(fig, filename='simple-plot-from-csv')\n"
   ]
  },
  {
   "cell_type": "markdown",
   "metadata": {},
   "source": [
    "Click the link above. It should download a CSV file. Open the file. It should have about 57,000 rows with a selected set of columns."
   ]
  },
  {
   "cell_type": "code",
   "execution_count": null,
   "metadata": {
    "scrolled": true
   },
   "outputs": [],
   "source": [
    "import pandas\n",
    "from plotly.offline import init_notebook_mode, iplot\n",
    "import plotly.figure_factory as ff\n",
    "import plotly.graph_objs as go\n",
    "import logging\n",
    "logging.getLogger().setLevel(logging.DEBUG)\n",
    "# logging.getLogger().setLevel(logging.INFO)\n",
    "\n",
    "wfs_server = 'https://citydata.be.unsw.edu.au/geoserver/wfs'\n",
    "wfs_parms = 'srsName=EPSG%3A4326&typename=geonode%3AInsideAirbnb_44_2015_17&outputFormat=csv&version=1.0.0&service=WFS&request=GetFeature'\n",
    "\n",
    "city = 'Sydney'\n",
    "cql_filter_parm = 'cql_filter=City=\\'' + city + '\\''\n",
    "\n",
    "properties = 'City,PropertyID,HostID,Latitude,Longitude,Price'\n",
    "propname_parm = 'PropertyName=' + properties\n",
    "\n",
    "max_features = 1000\n",
    "\n",
    "url = wfs_server + '?' + wfs_parms + \"&\" + cql_filter_parm + \"&\" + propname_parm\n",
    "\n",
    "if max_features > 0:\n",
    "    max_features_parm = 'maxFeatures=' + str(max_features)\n",
    "    url += \"&\" + max_features_parm\n",
    "\n",
    "logging.debug('url: ' + url)\n",
    "\n",
    "df = pandas.read_csv(url)\n",
    "\n",
    "logging.debug('df.shape:' + str(df.shape))\n",
    "\n",
    "logging.info('list df:' + str(list(df)))\n",
    "\n",
    "trace1 = go.Scatter(\n",
    "    x=df['HostID'],\n",
    "    y=df['Price'],\n",
    "    mode='markers',\n",
    "    transforms = [dict(\n",
    "        type = 'aggregate',\n",
    "        groups = df['HostID'],\n",
    "        aggregations = [dict(\n",
    "            target = 'y',\n",
    "            func = 'sum',\n",
    "            enabled = True\n",
    "        )]\n",
    "    )]\n",
    ")\n",
    "\n",
    "layout = go.Layout(title='Simple map from csv data',\n",
    "                   plot_bgcolor='rgb(230, 230,230)')\n",
    "\n",
    "fig = go.Figure(data=[trace1], layout=layout)\n",
    "\n",
    "# Plot data in the notebook\n",
    "\n",
    "init_notebook_mode()\n",
    "iplot(fig, filename='simple-plot-from-csv')\n"
   ]
  },
  {
   "cell_type": "markdown",
   "metadata": {},
   "source": [
    "That didn't work. So I'll try it without graphic objects or fig, just as the [Plotly aggregations tute](https://plot.ly/python/aggregations/) does it."
   ]
  },
  {
   "cell_type": "code",
   "execution_count": null,
   "metadata": {},
   "outputs": [],
   "source": [
    "import plotly.offline as off\n",
    "\n",
    "off.init_notebook_mode(connected=False)\n",
    "\n",
    "data = [dict(\n",
    "  type = 'scatter',\n",
    "  x = df['HostID'],\n",
    "  y = df['Price'],\n",
    "  mode = 'markers',\n",
    "  transforms = [dict(\n",
    "    type = 'aggregate',\n",
    "    groups = df['HostID'],\n",
    "    aggregations = [dict(\n",
    "        target = 'y', func = 'sum', enabled = True),\n",
    "    ]\n",
    "  )]\n",
    ")]\n",
    "\n",
    "\n",
    "off.iplot({'data': data}, validate=False)"
   ]
  },
  {
   "cell_type": "markdown",
   "metadata": {},
   "source": [
    "Now combine the code."
   ]
  },
  {
   "cell_type": "code",
   "execution_count": null,
   "metadata": {
    "scrolled": true
   },
   "outputs": [],
   "source": [
    "import pandas\n",
    "from plotly.offline import init_notebook_mode, iplot\n",
    "# import plotly.figure_factory as ff\n",
    "# import plotly.graph_objs as go\n",
    "import logging\n",
    "logging.getLogger().setLevel(logging.DEBUG)\n",
    "# logging.getLogger().setLevel(logging.INFO)\n",
    "\n",
    "wfs_server = 'https://citydata.be.unsw.edu.au/geoserver/wfs'\n",
    "wfs_parms = 'srsName=EPSG%3A4326&typename=geonode%3AInsideAirbnb_44_2015_17&outputFormat=csv&version=1.0.0&service=WFS&request=GetFeature'\n",
    "\n",
    "city = 'Sydney'\n",
    "cql_filter_parm = 'cql_filter=City=\\'' + city + '\\''\n",
    "\n",
    "properties = 'City,PropertyID,HostID,Latitude,Longitude,Price'\n",
    "propname_parm = 'PropertyName=' + properties\n",
    "\n",
    "max_features = 1000000\n",
    "\n",
    "url = wfs_server + '?' + wfs_parms + \"&\" + cql_filter_parm + \"&\" + propname_parm\n",
    "\n",
    "if max_features > 0:\n",
    "    max_features_parm = 'maxFeatures=' + str(max_features)\n",
    "    url += \"&\" + max_features_parm\n",
    "\n",
    "logging.debug('url: ' + url)\n",
    "\n",
    "df = pandas.read_csv(url)\n",
    "\n",
    "logging.debug('df.shape:' + str(df.shape))\n",
    "\n",
    "logging.info('list df:' + str(list(df)))\n",
    "\n",
    "# Plot data in the notebook\n",
    "\n",
    "init_notebook_mode(connected=False)\n",
    "\n",
    "data = [dict(\n",
    "  type = 'scatter',\n",
    "  x = df['HostID'],\n",
    "  y = df['Price'],\n",
    "  mode = 'markers',\n",
    "  transforms = [dict(\n",
    "    type = 'aggregate',\n",
    "    groups = df['HostID'],\n",
    "    aggregations = [dict(\n",
    "        target = 'y', func = 'sum', enabled = True),\n",
    "    ]\n",
    "  )]\n",
    ")]\n",
    "\n",
    "iplot({'data': data}, validate=False)\n"
   ]
  },
  {
   "cell_type": "markdown",
   "metadata": {},
   "source": [
    "Wow there are a handful of hosts with huge portfolios!\n",
    "\n",
    "But remember there may be more than one scrape for Sydney, so we may be double or triple counting properties.\n",
    "\n",
    "Let's find the last scrape date and use that."
   ]
  },
  {
   "cell_type": "code",
   "execution_count": null,
   "metadata": {},
   "outputs": [],
   "source": [
    "import pandas\n",
    "from plotly.offline import init_notebook_mode, iplot\n",
    "# import plotly.figure_factory as ff\n",
    "# import plotly.graph_objs as go\n",
    "import logging\n",
    "logging.getLogger().setLevel(logging.INFO)\n",
    "# logging.getLogger().setLevel(logging.INFO)\n",
    "\n",
    "wfs_server = 'https://citydata.be.unsw.edu.au/geoserver/wfs'\n",
    "wfs_parms = 'srsName=EPSG%3A4326&typename=geonode%3AInsideAirbnb_44_2015_17&outputFormat=csv&version=1.0.0&service=WFS&request=GetFeature'\n",
    "\n",
    "city = 'Sydney'\n",
    "cql_filter_parm = 'cql_filter=City=\\'' + city + '\\''\n",
    "\n",
    "properties = 'City,PropertyID,HostID,Latitude,Longitude,Price,ScrapeDate'\n",
    "propname_parm = 'PropertyName=' + properties\n",
    "\n",
    "max_features = 10000000\n",
    "\n",
    "url = wfs_server + '?' + wfs_parms + \"&\" + cql_filter_parm + \"&\" + propname_parm\n",
    "\n",
    "if max_features > 0:\n",
    "    max_features_parm = 'maxFeatures=' + str(max_features)\n",
    "    url += \"&\" + max_features_parm\n",
    "\n",
    "logging.debug('url: ' + url)\n",
    "\n",
    "df = pandas.read_csv(url)\n",
    "\n",
    "logging.debug('df.shape:' + str(df.shape))\n",
    "\n",
    "logging.debug('list df:' + str(list(df)))\n",
    "\n",
    "logging.info(df['ScrapeDate'].max())\n",
    "\n",
    "# Plot data in the notebook\n",
    "\n",
    "# init_notebook_mode(connected=False)\n",
    "\n",
    "# data = [dict(\n",
    "#   type = 'scatter',\n",
    "#   x = df['HostID'],\n",
    "#   y = df['Price'],\n",
    "#   mode = 'markers',\n",
    "#   transforms = [dict(\n",
    "#     type = 'aggregate',\n",
    "#     groups = df['HostID'],\n",
    "#     aggregations = [dict(\n",
    "#         target = 'y', func = 'sum', enabled = True),\n",
    "#     ]\n",
    "#   )]\n",
    "# )]\n",
    "\n",
    "# iplot({'data': data}, validate=False)\n"
   ]
  },
  {
   "cell_type": "markdown",
   "metadata": {},
   "source": [
    "So the last scrape of Sydney was 4th April 2017. Let's add that to the cql_filter so we only get the last scrape of Sydney records."
   ]
  },
  {
   "cell_type": "code",
   "execution_count": null,
   "metadata": {
    "scrolled": true
   },
   "outputs": [],
   "source": [
    "import pandas\n",
    "from plotly.offline import init_notebook_mode, iplot\n",
    "# import plotly.figure_factory as ff\n",
    "# import plotly.graph_objs as go\n",
    "import logging\n",
    "logging.getLogger().setLevel(logging.DEBUG)\n",
    "# logging.getLogger().setLevel(logging.INFO)\n",
    "\n",
    "wfs_server = 'https://citydata.be.unsw.edu.au/geoserver/wfs'\n",
    "wfs_parms = 'srsName=EPSG%3A4326&typename=geonode%3AInsideAirbnb_44_2015_17&outputFormat=csv&version=1.0.0&service=WFS&request=GetFeature'\n",
    "\n",
    "city = 'Sydney'\n",
    "scrapedate = '2017-04-03T00:00:00'\n",
    "\n",
    "cql_filter_parm = 'cql_filter=City=\\'' + city + '\\'' + '%20AND%20' + 'ScrapeDate=' + scrapedate\n",
    "\n",
    "properties = 'City,PropertyID,HostID,Latitude,Longitude,Price,ScrapeDate'\n",
    "propname_parm = 'PropertyName=' + properties\n",
    "\n",
    "max_features = 0\n",
    "\n",
    "url = wfs_server + '?' + wfs_parms + \"&\" + cql_filter_parm + \"&\" + propname_parm\n",
    "\n",
    "if max_features > 0:\n",
    "    max_features_parm = 'maxFeatures=' + str(max_features)\n",
    "    url += \"&\" + max_features_parm\n",
    "\n",
    "logging.debug('url: ' + url)\n",
    "\n",
    "df = pandas.read_csv(url)\n",
    "\n",
    "logging.debug('df.shape:' + str(df.shape))\n",
    "\n",
    "logging.debug('list df:' + str(list(df)))\n",
    "\n",
    "logging.info(df['ScrapeDate'].max())\n",
    "\n",
    "# Plot data in the notebook\n",
    "\n",
    "# init_notebook_mode(connected=False)\n",
    "\n",
    "# data = [dict(\n",
    "#   type = 'scatter',\n",
    "#   x = df['HostID'],\n",
    "#   y = df['Price'],\n",
    "#   mode = 'markers',\n",
    "#   transforms = [dict(\n",
    "#     type = 'aggregate',\n",
    "#     groups = df['HostID'],\n",
    "#     aggregations = [dict(\n",
    "#         target = 'y', func = 'sum', enabled = True),\n",
    "#     ]\n",
    "#   )]\n",
    "# )]\n",
    "\n",
    "# iplot({'data': data}, validate=False)\n"
   ]
  },
  {
   "cell_type": "markdown",
   "metadata": {},
   "source": [
    "We have 24038 rows now instead of 57,000 or so, so we have filtered just to the last scrape in April 2017.\n",
    "\n",
    "Now let's plot it again."
   ]
  },
  {
   "cell_type": "code",
   "execution_count": null,
   "metadata": {},
   "outputs": [],
   "source": [
    "\n",
    "# Plot data in the notebook\n",
    "\n",
    "init_notebook_mode(connected=False)\n",
    "\n",
    "data = [dict(\n",
    "  type = 'scatter',\n",
    "  x = df['HostID'],\n",
    "  y = df['Price'],\n",
    "  mode = 'markers',\n",
    "  transforms = [dict(\n",
    "    type = 'aggregate',\n",
    "    groups = df['HostID'],\n",
    "    aggregations = [dict(\n",
    "        target = 'y', func = 'sum', enabled = True),\n",
    "    ]\n",
    "  )]\n",
    ")]\n",
    "\n",
    "iplot({'data': data}, validate=False)\n"
   ]
  }
 ],
 "metadata": {
  "kernelspec": {
   "display_name": "Python 3",
   "language": "python",
   "name": "python3"
  },
  "language_info": {
   "codemirror_mode": {
    "name": "ipython",
    "version": 3
   },
   "file_extension": ".py",
   "mimetype": "text/x-python",
   "name": "python",
   "nbconvert_exporter": "python",
   "pygments_lexer": "ipython3",
   "version": "3.6.1"
  }
 },
 "nbformat": 4,
 "nbformat_minor": 2
}
